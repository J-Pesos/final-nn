{
 "cells": [
  {
   "cell_type": "code",
   "execution_count": 17,
   "id": "ca668f6b",
   "metadata": {},
   "outputs": [],
   "source": [
    "from nn import nn, preprocess, io\n",
    "import numpy as np\n",
    "import pytest\n",
    "from sklearn.datasets import load_digits\n",
    "from sklearn.model_selection import train_test_split\n",
    "\n",
    "# Set random seed for reproducibility.\n",
    "np.random.seed(15)\n",
    "\n",
    "# Create simple neural networks for testing.\n",
    "nn_test = nn.NeuralNetwork([{'input_dim': 3, 'output_dim': 1, 'activation': 'sigmoid'},\n",
    "                            {'input_dim': 1, 'output_dim': 3, 'activation': 'sigmoid'}\n",
    "                            ],\n",
    "                            lr = 0.1,\n",
    "                            seed = 15,\n",
    "                            batch_size = 3,\n",
    "                            epochs = 5,\n",
    "                            loss_function = 'bce'\n",
    "                            )"
   ]
  },
  {
   "cell_type": "markdown",
   "id": "1d8d87be",
   "metadata": {},
   "source": [
    "MSE"
   ]
  },
  {
   "cell_type": "code",
   "execution_count": 25,
   "id": "5d5c600a",
   "metadata": {},
   "outputs": [],
   "source": [
    "# Generate y and y_hat. Manual calculation is \n",
    "y = np.array( [0, 1, 1, 1, 0] )\n",
    "y_hat = np.array( [0, 1, 1, 0, 1] )\n",
    "\n",
    "# Instantiate mse calculated by implementation.\n",
    "mse_method = nn_test._mean_squared_error(y, y_hat)\n",
    "\n",
    "# Manual calculation of backprop is an array of errors depending on differences in y and y_hat.\n",
    "mse_bprop = np.array( [ 0. ,  0. ,  0. , -0.4,  0.4] )\n",
    "\n",
    "# Instantiate mse backprop calculated by implementation.\n",
    "mse_bprop_method = nn_test._mean_squared_error_backprop(y, y_hat)\n",
    "\n",
    "# Assert that method mse backprop matches manual calculation.\n",
    "assert np.all(mse_bprop == mse_bprop_method)"
   ]
  },
  {
   "cell_type": "markdown",
   "id": "879d9e91",
   "metadata": {},
   "source": [
    "Sampled_seqs unit test"
   ]
  },
  {
   "cell_type": "code",
   "execution_count": 14,
   "id": "fc75a3d3",
   "metadata": {},
   "outputs": [],
   "source": [
    "alphabet = ['A', 'T', 'C', 'G']\n",
    "seqs = []\n",
    "\n",
    "# Create list of unbalanced sequences and corresponding labels.\n",
    "for seq in range(1000):\n",
    "    seq = []\n",
    "    for char in range(17):\n",
    "        seq += np.random.choice(alphabet)\n",
    "    seqs += [seq]\n",
    "\n",
    "labels = [True for lab in range(800)] + [False for x in range(200)]\n",
    "\n",
    "# Perform balanced sampling.\n",
    "sampled_seqs, sampled_labels = preprocess.sample_seqs(seqs, labels)\n",
    "\n",
    "# Create separate lists for sampled labels.\n",
    "pos_labs = []\n",
    "neg_labs = []\n",
    "for lab in sampled_labels:\n",
    "    if lab == True:\n",
    "        pos_labs += [lab]\n",
    "    else:\n",
    "        neg_labs += [lab]\n",
    "\n",
    "# Assert that sampled sequences + labels are same size as original lists.\n",
    "assert len(seqs) == len(sampled_seqs), 'Sampled sequences do not match original list length.'\n",
    "assert len(labels) == len(sampled_labels), 'Sampled labels do not match original list length.'\n",
    "\n",
    "# Assert that positive and sequences are relatively balanced (0.5 error) based on length of their sampled lists.\n",
    "assert abs( len(pos_labs) - len(neg_labs) ) < 50, 'Classes are not balanced after sampling.' "
   ]
  },
  {
   "cell_type": "markdown",
   "id": "a71df78f",
   "metadata": {},
   "source": [
    "One_hot_encode unit test"
   ]
  },
  {
   "cell_type": "code",
   "execution_count": 16,
   "id": "f51e8e3f",
   "metadata": {},
   "outputs": [],
   "source": [
    "seqs = ['ATCG',\n",
    "        'GCTA']\n",
    "\n",
    "actual_encodings = np.array( [[1, 0, 0, 0, 0, 1, 0, 0, 0, 0, 1, 0, 0, 0, 0, 1],\n",
    "                              [0, 0, 0, 1, 0, 0, 1, 0, 0, 1, 0, 0, 1, 0, 0, 0]]\n",
    "                           )\n",
    "\n",
    "encoded_seqs = preprocess.one_hot_encode_seqs(seqs)\n",
    "\n",
    "assert np.all(actual_encodings == encoded_seqs), 'One-hot encoding is not outputting the expected sequence encoding.'"
   ]
  }
 ],
 "metadata": {
  "kernelspec": {
   "display_name": "Python 3 (ipykernel)",
   "language": "python",
   "name": "python3"
  },
  "language_info": {
   "codemirror_mode": {
    "name": "ipython",
    "version": 3
   },
   "file_extension": ".py",
   "mimetype": "text/x-python",
   "name": "python",
   "nbconvert_exporter": "python",
   "pygments_lexer": "ipython3",
   "version": "3.10.9"
  }
 },
 "nbformat": 4,
 "nbformat_minor": 5
}
