{
 "cells": [
  {
   "cell_type": "markdown",
   "id": "3082817d",
   "metadata": {},
   "source": [
    "# BMI 203: Step 2: Make Your Autoencoder"
   ]
  },
  {
   "cell_type": "markdown",
   "id": "881915d0",
   "metadata": {},
   "source": [
    "This Jupyter notebook trains a 64x16x64 autoencoder on the digits dataset."
   ]
  },
  {
   "cell_type": "markdown",
   "id": "217896d4",
   "metadata": {},
   "source": [
    "#### Import modules."
   ]
  },
  {
   "cell_type": "code",
   "execution_count": 40,
   "id": "b69171a8",
   "metadata": {},
   "outputs": [],
   "source": [
    "from nn import nn, preprocess, io\n",
    "import numpy as np\n",
    "from sklearn.datasets import load_digits\n",
    "from sklearn.model_selection import train_test_split\n",
    "import pandas as pd\n",
    "import matplotlib.pyplot as plt"
   ]
  },
  {
   "cell_type": "code",
   "execution_count": 2,
   "id": "3334b189",
   "metadata": {},
   "outputs": [],
   "source": [
    "%load_ext autoreload\n",
    "%autoreload 2"
   ]
  },
  {
   "cell_type": "markdown",
   "id": "70936ec0",
   "metadata": {},
   "source": [
    "Initialize seed for consistent results."
   ]
  },
  {
   "cell_type": "code",
   "execution_count": 30,
   "id": "04a4ef9b",
   "metadata": {},
   "outputs": [],
   "source": [
    "seed = 15"
   ]
  },
  {
   "cell_type": "markdown",
   "id": "e3083a56",
   "metadata": {},
   "source": [
    "#### Load digits dataset."
   ]
  },
  {
   "cell_type": "code",
   "execution_count": 7,
   "id": "2533aa40",
   "metadata": {},
   "outputs": [
    {
     "data": {
      "text/plain": [
       "{'data': array([[ 0.,  0.,  5., ...,  0.,  0.,  0.],\n",
       "        [ 0.,  0.,  0., ..., 10.,  0.,  0.],\n",
       "        [ 0.,  0.,  0., ..., 16.,  9.,  0.],\n",
       "        ...,\n",
       "        [ 0.,  0.,  1., ...,  6.,  0.,  0.],\n",
       "        [ 0.,  0.,  2., ..., 12.,  0.,  0.],\n",
       "        [ 0.,  0., 10., ..., 12.,  1.,  0.]]),\n",
       " 'target': array([0, 1, 2, ..., 8, 9, 8]),\n",
       " 'frame': None,\n",
       " 'feature_names': ['pixel_0_0',\n",
       "  'pixel_0_1',\n",
       "  'pixel_0_2',\n",
       "  'pixel_0_3',\n",
       "  'pixel_0_4',\n",
       "  'pixel_0_5',\n",
       "  'pixel_0_6',\n",
       "  'pixel_0_7',\n",
       "  'pixel_1_0',\n",
       "  'pixel_1_1',\n",
       "  'pixel_1_2',\n",
       "  'pixel_1_3',\n",
       "  'pixel_1_4',\n",
       "  'pixel_1_5',\n",
       "  'pixel_1_6',\n",
       "  'pixel_1_7',\n",
       "  'pixel_2_0',\n",
       "  'pixel_2_1',\n",
       "  'pixel_2_2',\n",
       "  'pixel_2_3',\n",
       "  'pixel_2_4',\n",
       "  'pixel_2_5',\n",
       "  'pixel_2_6',\n",
       "  'pixel_2_7',\n",
       "  'pixel_3_0',\n",
       "  'pixel_3_1',\n",
       "  'pixel_3_2',\n",
       "  'pixel_3_3',\n",
       "  'pixel_3_4',\n",
       "  'pixel_3_5',\n",
       "  'pixel_3_6',\n",
       "  'pixel_3_7',\n",
       "  'pixel_4_0',\n",
       "  'pixel_4_1',\n",
       "  'pixel_4_2',\n",
       "  'pixel_4_3',\n",
       "  'pixel_4_4',\n",
       "  'pixel_4_5',\n",
       "  'pixel_4_6',\n",
       "  'pixel_4_7',\n",
       "  'pixel_5_0',\n",
       "  'pixel_5_1',\n",
       "  'pixel_5_2',\n",
       "  'pixel_5_3',\n",
       "  'pixel_5_4',\n",
       "  'pixel_5_5',\n",
       "  'pixel_5_6',\n",
       "  'pixel_5_7',\n",
       "  'pixel_6_0',\n",
       "  'pixel_6_1',\n",
       "  'pixel_6_2',\n",
       "  'pixel_6_3',\n",
       "  'pixel_6_4',\n",
       "  'pixel_6_5',\n",
       "  'pixel_6_6',\n",
       "  'pixel_6_7',\n",
       "  'pixel_7_0',\n",
       "  'pixel_7_1',\n",
       "  'pixel_7_2',\n",
       "  'pixel_7_3',\n",
       "  'pixel_7_4',\n",
       "  'pixel_7_5',\n",
       "  'pixel_7_6',\n",
       "  'pixel_7_7'],\n",
       " 'target_names': array([0, 1, 2, 3, 4, 5, 6, 7, 8, 9]),\n",
       " 'images': array([[[ 0.,  0.,  5., ...,  1.,  0.,  0.],\n",
       "         [ 0.,  0., 13., ..., 15.,  5.,  0.],\n",
       "         [ 0.,  3., 15., ..., 11.,  8.,  0.],\n",
       "         ...,\n",
       "         [ 0.,  4., 11., ..., 12.,  7.,  0.],\n",
       "         [ 0.,  2., 14., ..., 12.,  0.,  0.],\n",
       "         [ 0.,  0.,  6., ...,  0.,  0.,  0.]],\n",
       " \n",
       "        [[ 0.,  0.,  0., ...,  5.,  0.,  0.],\n",
       "         [ 0.,  0.,  0., ...,  9.,  0.,  0.],\n",
       "         [ 0.,  0.,  3., ...,  6.,  0.,  0.],\n",
       "         ...,\n",
       "         [ 0.,  0.,  1., ...,  6.,  0.,  0.],\n",
       "         [ 0.,  0.,  1., ...,  6.,  0.,  0.],\n",
       "         [ 0.,  0.,  0., ..., 10.,  0.,  0.]],\n",
       " \n",
       "        [[ 0.,  0.,  0., ..., 12.,  0.,  0.],\n",
       "         [ 0.,  0.,  3., ..., 14.,  0.,  0.],\n",
       "         [ 0.,  0.,  8., ..., 16.,  0.,  0.],\n",
       "         ...,\n",
       "         [ 0.,  9., 16., ...,  0.,  0.,  0.],\n",
       "         [ 0.,  3., 13., ..., 11.,  5.,  0.],\n",
       "         [ 0.,  0.,  0., ..., 16.,  9.,  0.]],\n",
       " \n",
       "        ...,\n",
       " \n",
       "        [[ 0.,  0.,  1., ...,  1.,  0.,  0.],\n",
       "         [ 0.,  0., 13., ...,  2.,  1.,  0.],\n",
       "         [ 0.,  0., 16., ..., 16.,  5.,  0.],\n",
       "         ...,\n",
       "         [ 0.,  0., 16., ..., 15.,  0.,  0.],\n",
       "         [ 0.,  0., 15., ..., 16.,  0.,  0.],\n",
       "         [ 0.,  0.,  2., ...,  6.,  0.,  0.]],\n",
       " \n",
       "        [[ 0.,  0.,  2., ...,  0.,  0.,  0.],\n",
       "         [ 0.,  0., 14., ..., 15.,  1.,  0.],\n",
       "         [ 0.,  4., 16., ..., 16.,  7.,  0.],\n",
       "         ...,\n",
       "         [ 0.,  0.,  0., ..., 16.,  2.,  0.],\n",
       "         [ 0.,  0.,  4., ..., 16.,  2.,  0.],\n",
       "         [ 0.,  0.,  5., ..., 12.,  0.,  0.]],\n",
       " \n",
       "        [[ 0.,  0., 10., ...,  1.,  0.,  0.],\n",
       "         [ 0.,  2., 16., ...,  1.,  0.,  0.],\n",
       "         [ 0.,  0., 15., ..., 15.,  0.,  0.],\n",
       "         ...,\n",
       "         [ 0.,  4., 16., ..., 16.,  6.,  0.],\n",
       "         [ 0.,  8., 16., ..., 16.,  8.,  0.],\n",
       "         [ 0.,  1.,  8., ..., 12.,  1.,  0.]]]),\n",
       " 'DESCR': \".. _digits_dataset:\\n\\nOptical recognition of handwritten digits dataset\\n--------------------------------------------------\\n\\n**Data Set Characteristics:**\\n\\n    :Number of Instances: 1797\\n    :Number of Attributes: 64\\n    :Attribute Information: 8x8 image of integer pixels in the range 0..16.\\n    :Missing Attribute Values: None\\n    :Creator: E. Alpaydin (alpaydin '@' boun.edu.tr)\\n    :Date: July; 1998\\n\\nThis is a copy of the test set of the UCI ML hand-written digits datasets\\nhttps://archive.ics.uci.edu/ml/datasets/Optical+Recognition+of+Handwritten+Digits\\n\\nThe data set contains images of hand-written digits: 10 classes where\\neach class refers to a digit.\\n\\nPreprocessing programs made available by NIST were used to extract\\nnormalized bitmaps of handwritten digits from a preprinted form. From a\\ntotal of 43 people, 30 contributed to the training set and different 13\\nto the test set. 32x32 bitmaps are divided into nonoverlapping blocks of\\n4x4 and the number of on pixels are counted in each block. This generates\\nan input matrix of 8x8 where each element is an integer in the range\\n0..16. This reduces dimensionality and gives invariance to small\\ndistortions.\\n\\nFor info on NIST preprocessing routines, see M. D. Garris, J. L. Blue, G.\\nT. Candela, D. L. Dimmick, J. Geist, P. J. Grother, S. A. Janet, and C.\\nL. Wilson, NIST Form-Based Handprint Recognition System, NISTIR 5469,\\n1994.\\n\\n.. topic:: References\\n\\n  - C. Kaynak (1995) Methods of Combining Multiple Classifiers and Their\\n    Applications to Handwritten Digit Recognition, MSc Thesis, Institute of\\n    Graduate Studies in Science and Engineering, Bogazici University.\\n  - E. Alpaydin, C. Kaynak (1998) Cascading Classifiers, Kybernetika.\\n  - Ken Tang and Ponnuthurai N. Suganthan and Xi Yao and A. Kai Qin.\\n    Linear dimensionalityreduction using relevance weighted LDA. School of\\n    Electrical and Electronic Engineering Nanyang Technological University.\\n    2005.\\n  - Claudio Gentile. A New Approximate Maximal Margin Classification\\n    Algorithm. NIPS. 2000.\\n\"}"
      ]
     },
     "execution_count": 7,
     "metadata": {},
     "output_type": "execute_result"
    }
   ],
   "source": [
    "digits_dataset = load_digits()\n",
    "digits_dataset"
   ]
  },
  {
   "cell_type": "code",
   "execution_count": 10,
   "id": "a19ea36c",
   "metadata": {
    "scrolled": true
   },
   "outputs": [
    {
     "data": {
      "text/plain": [
       "array([[ 0.,  0.,  5., ...,  0.,  0.,  0.],\n",
       "       [ 0.,  0.,  0., ..., 10.,  0.,  0.],\n",
       "       [ 0.,  0.,  0., ..., 16.,  9.,  0.],\n",
       "       ...,\n",
       "       [ 0.,  0.,  1., ...,  6.,  0.,  0.],\n",
       "       [ 0.,  0.,  2., ..., 12.,  0.,  0.],\n",
       "       [ 0.,  0., 10., ..., 12.,  1.,  0.]])"
      ]
     },
     "execution_count": 10,
     "metadata": {},
     "output_type": "execute_result"
    }
   ],
   "source": [
    "digits_arr = digits_dataset['data']\n",
    "digits_arr"
   ]
  },
  {
   "cell_type": "code",
   "execution_count": 11,
   "id": "b8af772d",
   "metadata": {},
   "outputs": [
    {
     "data": {
      "text/plain": [
       "(1797, 64)"
      ]
     },
     "execution_count": 11,
     "metadata": {},
     "output_type": "execute_result"
    }
   ],
   "source": [
    "np.shape(digits_arr)"
   ]
  },
  {
   "cell_type": "markdown",
   "id": "6239ad7e",
   "metadata": {},
   "source": [
    "There are 1797 8x8 (64 pixels total) images, where each image is hand-written digit."
   ]
  },
  {
   "cell_type": "markdown",
   "id": "12508ae6",
   "metadata": {},
   "source": [
    "#### Split data into training and validation sets."
   ]
  },
  {
   "cell_type": "markdown",
   "id": "5608c398",
   "metadata": {},
   "source": [
    "Split the data into 75% training, and 25% testing sets."
   ]
  },
  {
   "cell_type": "code",
   "execution_count": 12,
   "id": "6a966b40",
   "metadata": {},
   "outputs": [],
   "source": [
    "X_train, X_test, y_train, y_test = train_test_split(digits_arr, digits_arr, test_size = 0.25, random_state = 0)"
   ]
  },
  {
   "cell_type": "code",
   "execution_count": 17,
   "id": "9041fe70",
   "metadata": {},
   "outputs": [
    {
     "data": {
      "text/plain": [
       "(1347, 64)"
      ]
     },
     "execution_count": 17,
     "metadata": {},
     "output_type": "execute_result"
    }
   ],
   "source": [
    "np.shape(X_train)"
   ]
  },
  {
   "cell_type": "code",
   "execution_count": 16,
   "id": "1df74f55",
   "metadata": {
    "scrolled": false
   },
   "outputs": [
    {
     "data": {
      "text/plain": [
       "(450, 64)"
      ]
     },
     "execution_count": 16,
     "metadata": {},
     "output_type": "execute_result"
    }
   ],
   "source": [
    "np.shape(X_test)"
   ]
  },
  {
   "cell_type": "code",
   "execution_count": 28,
   "id": "f95252b1",
   "metadata": {
    "scrolled": false
   },
   "outputs": [
    {
     "data": {
      "text/plain": [
       "array([[ 0.,  3., 13., 16.,  9.,  0.,  0.,  0.,  0., 10., 15., 13., 15.,\n",
       "         2.,  0.,  0.,  0., 15.,  4.,  4., 16.,  1.,  0.,  0.,  0.,  0.,\n",
       "         0.,  5., 16.,  2.,  0.,  0.,  0.,  0.,  1., 14., 13.,  0.,  0.,\n",
       "         0.,  0.,  0., 10., 16.,  5.,  0.,  0.,  0.,  0.,  4., 16., 13.,\n",
       "         8., 10.,  9.,  1.,  0.,  2., 16., 16., 14., 12.,  9.,  1.],\n",
       "       [ 0.,  0.,  1., 14., 13.,  4.,  0.,  0.,  0.,  3., 15., 12., 11.,\n",
       "        15.,  0.,  0.,  0.,  8., 11.,  1.,  7., 13.,  0.,  0.,  0.,  1.,\n",
       "        13., 14., 16.,  1.,  0.,  0.,  0.,  0.,  0., 14., 13., 14.,  2.,\n",
       "         0.,  0.,  0.,  2., 12.,  0.,  9.,  8.,  0.,  0.,  0.,  3., 13.,\n",
       "         4., 12.,  6.,  0.,  0.,  0.,  0.,  9., 14., 13.,  1.,  0.],\n",
       "       [ 0.,  0.,  4., 10., 13.,  6.,  0.,  0.,  0.,  1., 16., 14., 12.,\n",
       "        16.,  3.,  0.,  0.,  4., 16.,  6.,  3., 16.,  4.,  0.,  0.,  0.,\n",
       "        12., 16., 16., 16.,  5.,  0.,  0.,  0.,  0.,  4.,  4., 16.,  8.,\n",
       "         0.,  0.,  0.,  0.,  0.,  0., 15.,  5.,  0.,  0.,  0.,  5.,  7.,\n",
       "         7., 16.,  4.,  0.,  0.,  0.,  2., 14., 15.,  9.,  0.,  0.]])"
      ]
     },
     "execution_count": 28,
     "metadata": {},
     "output_type": "execute_result"
    }
   ],
   "source": [
    "X_train[:3]"
   ]
  },
  {
   "cell_type": "code",
   "execution_count": 29,
   "id": "a94cd9b8",
   "metadata": {},
   "outputs": [
    {
     "data": {
      "text/plain": [
       "array([[ 0.,  3., 13., 16.,  9.,  0.,  0.,  0.,  0., 10., 15., 13., 15.,\n",
       "         2.,  0.,  0.,  0., 15.,  4.,  4., 16.,  1.,  0.,  0.,  0.,  0.,\n",
       "         0.,  5., 16.,  2.,  0.,  0.,  0.,  0.,  1., 14., 13.,  0.,  0.,\n",
       "         0.,  0.,  0., 10., 16.,  5.,  0.,  0.,  0.,  0.,  4., 16., 13.,\n",
       "         8., 10.,  9.,  1.,  0.,  2., 16., 16., 14., 12.,  9.,  1.],\n",
       "       [ 0.,  0.,  1., 14., 13.,  4.,  0.,  0.,  0.,  3., 15., 12., 11.,\n",
       "        15.,  0.,  0.,  0.,  8., 11.,  1.,  7., 13.,  0.,  0.,  0.,  1.,\n",
       "        13., 14., 16.,  1.,  0.,  0.,  0.,  0.,  0., 14., 13., 14.,  2.,\n",
       "         0.,  0.,  0.,  2., 12.,  0.,  9.,  8.,  0.,  0.,  0.,  3., 13.,\n",
       "         4., 12.,  6.,  0.,  0.,  0.,  0.,  9., 14., 13.,  1.,  0.],\n",
       "       [ 0.,  0.,  4., 10., 13.,  6.,  0.,  0.,  0.,  1., 16., 14., 12.,\n",
       "        16.,  3.,  0.,  0.,  4., 16.,  6.,  3., 16.,  4.,  0.,  0.,  0.,\n",
       "        12., 16., 16., 16.,  5.,  0.,  0.,  0.,  0.,  4.,  4., 16.,  8.,\n",
       "         0.,  0.,  0.,  0.,  0.,  0., 15.,  5.,  0.,  0.,  0.,  5.,  7.,\n",
       "         7., 16.,  4.,  0.,  0.,  0.,  2., 14., 15.,  9.,  0.,  0.]])"
      ]
     },
     "execution_count": 29,
     "metadata": {},
     "output_type": "execute_result"
    }
   ],
   "source": [
    "y_train[:3]"
   ]
  },
  {
   "cell_type": "markdown",
   "id": "bc94d15e",
   "metadata": {},
   "source": [
    "#### Determine best hyperparameters."
   ]
  },
  {
   "cell_type": "markdown",
   "id": "a71944aa",
   "metadata": {},
   "source": [
    "I generate my autoencoder using ReLu as the activation function and MSE as the loss function since the output is not binary and the task is akin to linear regression. Here I test a series of hyperparameters in my autoencoder to determined the optimal learning rate, batch size, and number of epochs. The architecture of my autoencoder has 3 layers total (input layer, hidden layer, and output layer), which takes an input and encodes it into a lower-dimensional latent space to decode and reconstruct it. This means my neural network should be 64x16x64."
   ]
  },
  {
   "cell_type": "code",
   "execution_count": 50,
   "id": "14ac45a9",
   "metadata": {},
   "outputs": [
    {
     "name": "stdout",
     "output_type": "stream",
     "text": [
      "Fit v1.1\n",
      "Fit v1.1\n",
      "Fit v1.1\n",
      "Fit v1.1\n",
      "Fit v1.1\n",
      "Fit v1.1\n",
      "Fit v1.1\n",
      "Fit v1.1\n"
     ]
    }
   ],
   "source": [
    "# Initialize nn architecture.\n",
    "nn_arch = [{'input_dim': 64, 'output_dim': 16, 'activation': 'relu'},\n",
    "           {'input_dim': 16, 'output_dim': 64, 'activation': 'relu'}]\n",
    "\n",
    "# Create series of hyperparameters to test.\n",
    "lrs = [0.1, 0.01, 0.001, 0.0001, 0.00001]\n",
    "batch_sizes = [10, 25, 50, 100, 200]\n",
    "epochs = [10, 25, 50, 100, 200, 500]\n",
    "\n",
    "# Initialize list losses and parameters test runs.\n",
    "losses = []\n",
    "test_runs = []\n",
    "\n",
    "# Test hyperparameters in series.\n",
    "for lr in lrs:\n",
    "    for bs in batch_sizes:\n",
    "        for e in epochs:\n",
    "            # Generate autoenconder with current hyperparameters.\n",
    "            test_autoencoder = nn.NeuralNetwork(nn_arch,\n",
    "                                                 lr = lr, \n",
    "                                                 batch_size = bs,\n",
    "                                                 epochs = e,\n",
    "                                                 seed = seed,\n",
    "                                                 loss_function = \"mse\")\n",
    "            loss_train, loss_val = test_autoencoder.fit(X_train, y_train, X_test, y_test) # Train autoencoder.\n",
    "            min_loss = min(loss_val) # Add minimal loss value to store best final model.\n",
    "            test_runs.append([lr, bs, e, min_loss]) # Append list of hyperparameters and loss to full list."
   ]
  },
  {
   "cell_type": "code",
   "execution_count": 51,
   "id": "c7f9d330",
   "metadata": {},
   "outputs": [
    {
     "data": {
      "text/plain": [
       "[[0.1, 10, 10, 59.07433618258146],\n",
       " [0.1, 10, 500, 59.07433618258146],\n",
       " [0.1, 200, 10, 57.75538569267925],\n",
       " [0.1, 200, 500, 57.75538569267925],\n",
       " [0.01, 10, 10, 59.07433618258146],\n",
       " [0.01, 10, 500, 59.07433618258146],\n",
       " [0.01, 200, 10, 55.70946212879729],\n",
       " [0.01, 200, 500, 55.70946212879729]]"
      ]
     },
     "execution_count": 51,
     "metadata": {},
     "output_type": "execute_result"
    }
   ],
   "source": [
    "test_runs"
   ]
  },
  {
   "cell_type": "code",
   "execution_count": 41,
   "id": "fe46654b",
   "metadata": {},
   "outputs": [
    {
     "data": {
      "text/html": [
       "<div>\n",
       "<style scoped>\n",
       "    .dataframe tbody tr th:only-of-type {\n",
       "        vertical-align: middle;\n",
       "    }\n",
       "\n",
       "    .dataframe tbody tr th {\n",
       "        vertical-align: top;\n",
       "    }\n",
       "\n",
       "    .dataframe thead th {\n",
       "        text-align: right;\n",
       "    }\n",
       "</style>\n",
       "<table border=\"1\" class=\"dataframe\">\n",
       "  <thead>\n",
       "    <tr style=\"text-align: right;\">\n",
       "      <th></th>\n",
       "      <th>Learning Rate</th>\n",
       "      <th>Batch Size</th>\n",
       "      <th>Epochs</th>\n",
       "      <th>Validation MSE</th>\n",
       "    </tr>\n",
       "  </thead>\n",
       "  <tbody>\n",
       "    <tr>\n",
       "      <th>51</th>\n",
       "      <td>0.01000</td>\n",
       "      <td>100</td>\n",
       "      <td>100</td>\n",
       "      <td>55.259102</td>\n",
       "    </tr>\n",
       "    <tr>\n",
       "      <th>52</th>\n",
       "      <td>0.01000</td>\n",
       "      <td>100</td>\n",
       "      <td>200</td>\n",
       "      <td>55.259102</td>\n",
       "    </tr>\n",
       "    <tr>\n",
       "      <th>53</th>\n",
       "      <td>0.01000</td>\n",
       "      <td>100</td>\n",
       "      <td>500</td>\n",
       "      <td>55.259102</td>\n",
       "    </tr>\n",
       "    <tr>\n",
       "      <th>55</th>\n",
       "      <td>0.01000</td>\n",
       "      <td>200</td>\n",
       "      <td>25</td>\n",
       "      <td>55.259102</td>\n",
       "    </tr>\n",
       "    <tr>\n",
       "      <th>149</th>\n",
       "      <td>0.00001</td>\n",
       "      <td>200</td>\n",
       "      <td>500</td>\n",
       "      <td>55.259102</td>\n",
       "    </tr>\n",
       "  </tbody>\n",
       "</table>\n",
       "</div>"
      ],
      "text/plain": [
       "     Learning Rate  Batch Size  Epochs  Validation MSE\n",
       "51         0.01000         100     100       55.259102\n",
       "52         0.01000         100     200       55.259102\n",
       "53         0.01000         100     500       55.259102\n",
       "55         0.01000         200      25       55.259102\n",
       "149        0.00001         200     500       55.259102"
      ]
     },
     "execution_count": 41,
     "metadata": {},
     "output_type": "execute_result"
    }
   ],
   "source": [
    "# Convert list of potential optimal hyperparameters to dataframe for easy viewing.\n",
    "optimal_df = pd.DataFrame(optimal)\n",
    "optimal_df.columns = ['Learning Rate', 'Batch Size', 'Epochs', 'Validation MSE']\n",
    "optimal_df.sort_values('Validation MSE').tail(5)"
   ]
  },
  {
   "cell_type": "code",
   "execution_count": 58,
   "id": "c4a26710",
   "metadata": {},
   "outputs": [],
   "source": [
    "#plotting function\n",
    "def plot_loss(per_epoch_loss_train, per_epoch_loss_val):\n",
    "    \n",
    "    plt.plot(per_epoch_loss_train, label='training')\n",
    "    plt.plot(per_epoch_loss_val, label='validation')\n",
    "    plt.xlabel('Epoch')\n",
    "    plt.ylabel('Loss (MSE)')\n",
    "    plt.legend()\n",
    "    \n",
    "    plt.show()"
   ]
  },
  {
   "cell_type": "code",
   "execution_count": 57,
   "id": "67b23373",
   "metadata": {},
   "outputs": [
    {
     "ename": "NameError",
     "evalue": "name 'plot_loss' is not defined",
     "output_type": "error",
     "traceback": [
      "\u001b[0;31m---------------------------------------------------------------------------\u001b[0m",
      "\u001b[0;31mNameError\u001b[0m                                 Traceback (most recent call last)",
      "Cell \u001b[0;32mIn[57], line 5\u001b[0m\n\u001b[1;32m      3\u001b[0m autoencoder \u001b[38;5;241m=\u001b[39m nn\u001b[38;5;241m.\u001b[39mNeuralNetwork(nn_arch, lr \u001b[38;5;241m=\u001b[39m \u001b[38;5;241m0.0001\u001b[39m, seed \u001b[38;5;241m=\u001b[39m seed, batch_size \u001b[38;5;241m=\u001b[39m \u001b[38;5;241m50\u001b[39m, epochs \u001b[38;5;241m=\u001b[39m \u001b[38;5;241m500\u001b[39m, loss_function \u001b[38;5;241m=\u001b[39m \u001b[38;5;124m\"\u001b[39m\u001b[38;5;124mmse\u001b[39m\u001b[38;5;124m\"\u001b[39m)\n\u001b[1;32m      4\u001b[0m per_epoch_loss_train, per_epoch_loss_val \u001b[38;5;241m=\u001b[39m autoencoder\u001b[38;5;241m.\u001b[39mfit(X_train, y_train, X_test, y_test)\n\u001b[0;32m----> 5\u001b[0m \u001b[43mplot_loss\u001b[49m(per_epoch_loss_train, per_epoch_loss_val)\n",
      "\u001b[0;31mNameError\u001b[0m: name 'plot_loss' is not defined"
     ]
    }
   ],
   "source": [
    "# initialize neural network architecture using the optimal parameters\n",
    "# initialize autoencoder\n",
    "autoencoder = nn.NeuralNetwork(nn_arch, lr = 0.0001, seed = seed, batch_size = 50, epochs = 500, loss_function = \"mse\")\n",
    "per_epoch_loss_train, per_epoch_loss_val = autoencoder.fit(X_train, y_train, X_test, y_test)"
   ]
  },
  {
   "cell_type": "code",
   "execution_count": 59,
   "id": "c6ec75a6",
   "metadata": {},
   "outputs": [
    {
     "data": {
      "image/png": "[encoded data removed]",
      "text/plain": [
       "<Figure size 640x480 with 1 Axes>"
      ]
     },
     "metadata": {},
     "output_type": "display_data"
    }
   ],
   "source": [
    "plot_loss(per_epoch_loss_train, per_epoch_loss_val)"
   ]
  },
  {
   "cell_type": "code",
   "execution_count": 53,
   "id": "df7f333b",
   "metadata": {},
   "outputs": [
    {
     "ename": "NameError",
     "evalue": "name 'train_loss' is not defined",
     "output_type": "error",
     "traceback": [
      "\u001b[0;31m---------------------------------------------------------------------------\u001b[0m",
      "\u001b[0;31mNameError\u001b[0m                                 Traceback (most recent call last)",
      "Cell \u001b[0;32mIn[53], line 3\u001b[0m\n\u001b[1;32m      1\u001b[0m \u001b[38;5;66;03m# Plot error loss\u001b[39;00m\n\u001b[1;32m      2\u001b[0m plt\u001b[38;5;241m.\u001b[39mfigure()\n\u001b[0;32m----> 3\u001b[0m plt\u001b[38;5;241m.\u001b[39mplot(\u001b[43mtrain_loss\u001b[49m)\n\u001b[1;32m      4\u001b[0m plt\u001b[38;5;241m.\u001b[39mtitle(\u001b[38;5;124m\"\u001b[39m\u001b[38;5;124mTraining Losses Per Epoch\u001b[39m\u001b[38;5;124m\"\u001b[39m)\n\u001b[1;32m      5\u001b[0m plt\u001b[38;5;241m.\u001b[39mxlabel(\u001b[38;5;124m'\u001b[39m\u001b[38;5;124mEpoch\u001b[39m\u001b[38;5;124m'\u001b[39m)\n",
      "\u001b[0;31mNameError\u001b[0m: name 'train_loss' is not defined"
     ]
    },
    {
     "data": {
      "text/plain": [
       "<Figure size 640x480 with 0 Axes>"
      ]
     },
     "metadata": {},
     "output_type": "display_data"
    }
   ],
   "source": [
    "# Plot error loss\n",
    "plt.figure()\n",
    "plt.plot(plot_loss)\n",
    "plt.title(\"Training Losses Per Epoch\")\n",
    "plt.xlabel('Epoch')\n",
    "plt.ylabel('Loss')\n",
    "plt.show()"
   ]
  },
  {
   "cell_type": "code",
   "execution_count": null,
   "id": "e0d2866d",
   "metadata": {},
   "outputs": [],
   "source": [
    "# Reconstruction\n",
    "fig, ax = plt.subplots(5,2, figsize=(4,10))\n",
    "ax[0,0].set_title('input image')\n",
    "ax[0,1].set_title('reconstructed image')\n",
    "\n",
    "for i,digit in enumerate(X_val[:5]):\n",
    "    ax[i,0].imshow(digit.reshape((8,8)), cmap=plt.get_cmap('gray'))\n",
    "    ax[i,1].imshow(model.predict(digit).reshape((8,8)), cmap=plt.get_cmap('gray'))\n",
    "\n",
    "plt.show()"
   ]
  },
  {
   "cell_type": "code",
   "execution_count": null,
   "id": "1b35c86b",
   "metadata": {},
   "outputs": [],
   "source": [
    "# Plot error loss\n",
    "plt.figure()\n",
    "plt.plot(train_loss)\n",
    "plt.title(\"Training Losses Per Epoch\")\n",
    "plt.xlabel('Epoch')\n",
    "plt.ylabel('Loss')\n",
    "plt.show()"
   ]
  }
 ],
 "metadata": {
  "kernelspec": {
   "display_name": "Python 3 (ipykernel)",
   "language": "python",
   "name": "python3"
  },
  "language_info": {
   "codemirror_mode": {
    "name": "ipython",
    "version": 3
   },
   "file_extension": ".py",
   "mimetype": "text/x-python",
   "name": "python",
   "nbconvert_exporter": "python",
   "pygments_lexer": "ipython3",
   "version": "3.10.9"
  }
 },
 "nbformat": 4,
 "nbformat_minor": 5
}
