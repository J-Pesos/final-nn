{
 "cells": [
  {
   "cell_type": "markdown",
   "id": "d37c0441",
   "metadata": {},
   "source": [
    "# BMI 203: Step 2: Make Your Autoencoder"
   ]
  },
  {
   "cell_type": "markdown",
   "id": "d9701ced",
   "metadata": {},
   "source": [
    "This Jupyter notebook trains a 64x16x64 autoencoder on the digits dataset."
   ]
  },
  {
   "cell_type": "markdown",
   "id": "f90bb30f",
   "metadata": {},
   "source": [
    "### Import modules."
   ]
  },
  {
   "cell_type": "code",
   "execution_count": 3,
   "id": "4e06f719",
   "metadata": {},
   "outputs": [],
   "source": [
    "from nn import nn, preprocess, io\n",
    "import numpy as np\n",
    "from sklearn.datasets import load_digits\n",
    "from sklearn.model_selection import train_test_split\n",
    "import pandas as pd\n",
    "import matplotlib.pyplot as plt"
   ]
  },
  {
   "cell_type": "code",
   "execution_count": 4,
   "id": "44a25824",
   "metadata": {},
   "outputs": [
    {
     "name": "stdout",
     "output_type": "stream",
     "text": [
      "The autoreload extension is already loaded. To reload it, use:\n",
      "  %reload_ext autoreload\n"
     ]
    }
   ],
   "source": [
    "%load_ext autoreload\n",
    "%autoreload 2"
   ]
  },
  {
   "cell_type": "markdown",
   "id": "13621dfc",
   "metadata": {},
   "source": [
    "Initialize seed for consistent results."
   ]
  },
  {
   "cell_type": "code",
   "execution_count": 5,
   "id": "b7188074",
   "metadata": {},
   "outputs": [],
   "source": [
    "seed = 15"
   ]
  },
  {
   "cell_type": "markdown",
   "id": "9dd1115e",
   "metadata": {},
   "source": [
    "### Load digits dataset."
   ]
  },
  {
   "cell_type": "code",
   "execution_count": 6,
   "id": "65b5e9ee",
   "metadata": {},
   "outputs": [
    {
     "data": {
      "text/plain": [
       "{'data': array([[ 0.,  0.,  5., ...,  0.,  0.,  0.],\n",
       "        [ 0.,  0.,  0., ..., 10.,  0.,  0.],\n",
       "        [ 0.,  0.,  0., ..., 16.,  9.,  0.],\n",
       "        ...,\n",
       "        [ 0.,  0.,  1., ...,  6.,  0.,  0.],\n",
       "        [ 0.,  0.,  2., ..., 12.,  0.,  0.],\n",
       "        [ 0.,  0., 10., ..., 12.,  1.,  0.]]),\n",
       " 'target': array([0, 1, 2, ..., 8, 9, 8]),\n",
       " 'frame': None,\n",
       " 'feature_names': ['pixel_0_0',\n",
       "  'pixel_0_1',\n",
       "  'pixel_0_2',\n",
       "  'pixel_0_3',\n",
       "  'pixel_0_4',\n",
       "  'pixel_0_5',\n",
       "  'pixel_0_6',\n",
       "  'pixel_0_7',\n",
       "  'pixel_1_0',\n",
       "  'pixel_1_1',\n",
       "  'pixel_1_2',\n",
       "  'pixel_1_3',\n",
       "  'pixel_1_4',\n",
       "  'pixel_1_5',\n",
       "  'pixel_1_6',\n",
       "  'pixel_1_7',\n",
       "  'pixel_2_0',\n",
       "  'pixel_2_1',\n",
       "  'pixel_2_2',\n",
       "  'pixel_2_3',\n",
       "  'pixel_2_4',\n",
       "  'pixel_2_5',\n",
       "  'pixel_2_6',\n",
       "  'pixel_2_7',\n",
       "  'pixel_3_0',\n",
       "  'pixel_3_1',\n",
       "  'pixel_3_2',\n",
       "  'pixel_3_3',\n",
       "  'pixel_3_4',\n",
       "  'pixel_3_5',\n",
       "  'pixel_3_6',\n",
       "  'pixel_3_7',\n",
       "  'pixel_4_0',\n",
       "  'pixel_4_1',\n",
       "  'pixel_4_2',\n",
       "  'pixel_4_3',\n",
       "  'pixel_4_4',\n",
       "  'pixel_4_5',\n",
       "  'pixel_4_6',\n",
       "  'pixel_4_7',\n",
       "  'pixel_5_0',\n",
       "  'pixel_5_1',\n",
       "  'pixel_5_2',\n",
       "  'pixel_5_3',\n",
       "  'pixel_5_4',\n",
       "  'pixel_5_5',\n",
       "  'pixel_5_6',\n",
       "  'pixel_5_7',\n",
       "  'pixel_6_0',\n",
       "  'pixel_6_1',\n",
       "  'pixel_6_2',\n",
       "  'pixel_6_3',\n",
       "  'pixel_6_4',\n",
       "  'pixel_6_5',\n",
       "  'pixel_6_6',\n",
       "  'pixel_6_7',\n",
       "  'pixel_7_0',\n",
       "  'pixel_7_1',\n",
       "  'pixel_7_2',\n",
       "  'pixel_7_3',\n",
       "  'pixel_7_4',\n",
       "  'pixel_7_5',\n",
       "  'pixel_7_6',\n",
       "  'pixel_7_7'],\n",
       " 'target_names': array([0, 1, 2, 3, 4, 5, 6, 7, 8, 9]),\n",
       " 'images': array([[[ 0.,  0.,  5., ...,  1.,  0.,  0.],\n",
       "         [ 0.,  0., 13., ..., 15.,  5.,  0.],\n",
       "         [ 0.,  3., 15., ..., 11.,  8.,  0.],\n",
       "         ...,\n",
       "         [ 0.,  4., 11., ..., 12.,  7.,  0.],\n",
       "         [ 0.,  2., 14., ..., 12.,  0.,  0.],\n",
       "         [ 0.,  0.,  6., ...,  0.,  0.,  0.]],\n",
       " \n",
       "        [[ 0.,  0.,  0., ...,  5.,  0.,  0.],\n",
       "         [ 0.,  0.,  0., ...,  9.,  0.,  0.],\n",
       "         [ 0.,  0.,  3., ...,  6.,  0.,  0.],\n",
       "         ...,\n",
       "         [ 0.,  0.,  1., ...,  6.,  0.,  0.],\n",
       "         [ 0.,  0.,  1., ...,  6.,  0.,  0.],\n",
       "         [ 0.,  0.,  0., ..., 10.,  0.,  0.]],\n",
       " \n",
       "        [[ 0.,  0.,  0., ..., 12.,  0.,  0.],\n",
       "         [ 0.,  0.,  3., ..., 14.,  0.,  0.],\n",
       "         [ 0.,  0.,  8., ..., 16.,  0.,  0.],\n",
       "         ...,\n",
       "         [ 0.,  9., 16., ...,  0.,  0.,  0.],\n",
       "         [ 0.,  3., 13., ..., 11.,  5.,  0.],\n",
       "         [ 0.,  0.,  0., ..., 16.,  9.,  0.]],\n",
       " \n",
       "        ...,\n",
       " \n",
       "        [[ 0.,  0.,  1., ...,  1.,  0.,  0.],\n",
       "         [ 0.,  0., 13., ...,  2.,  1.,  0.],\n",
       "         [ 0.,  0., 16., ..., 16.,  5.,  0.],\n",
       "         ...,\n",
       "         [ 0.,  0., 16., ..., 15.,  0.,  0.],\n",
       "         [ 0.,  0., 15., ..., 16.,  0.,  0.],\n",
       "         [ 0.,  0.,  2., ...,  6.,  0.,  0.]],\n",
       " \n",
       "        [[ 0.,  0.,  2., ...,  0.,  0.,  0.],\n",
       "         [ 0.,  0., 14., ..., 15.,  1.,  0.],\n",
       "         [ 0.,  4., 16., ..., 16.,  7.,  0.],\n",
       "         ...,\n",
       "         [ 0.,  0.,  0., ..., 16.,  2.,  0.],\n",
       "         [ 0.,  0.,  4., ..., 16.,  2.,  0.],\n",
       "         [ 0.,  0.,  5., ..., 12.,  0.,  0.]],\n",
       " \n",
       "        [[ 0.,  0., 10., ...,  1.,  0.,  0.],\n",
       "         [ 0.,  2., 16., ...,  1.,  0.,  0.],\n",
       "         [ 0.,  0., 15., ..., 15.,  0.,  0.],\n",
       "         ...,\n",
       "         [ 0.,  4., 16., ..., 16.,  6.,  0.],\n",
       "         [ 0.,  8., 16., ..., 16.,  8.,  0.],\n",
       "         [ 0.,  1.,  8., ..., 12.,  1.,  0.]]]),\n",
       " 'DESCR': \".. _digits_dataset:\\n\\nOptical recognition of handwritten digits dataset\\n--------------------------------------------------\\n\\n**Data Set Characteristics:**\\n\\n    :Number of Instances: 1797\\n    :Number of Attributes: 64\\n    :Attribute Information: 8x8 image of integer pixels in the range 0..16.\\n    :Missing Attribute Values: None\\n    :Creator: E. Alpaydin (alpaydin '@' boun.edu.tr)\\n    :Date: July; 1998\\n\\nThis is a copy of the test set of the UCI ML hand-written digits datasets\\nhttps://archive.ics.uci.edu/ml/datasets/Optical+Recognition+of+Handwritten+Digits\\n\\nThe data set contains images of hand-written digits: 10 classes where\\neach class refers to a digit.\\n\\nPreprocessing programs made available by NIST were used to extract\\nnormalized bitmaps of handwritten digits from a preprinted form. From a\\ntotal of 43 people, 30 contributed to the training set and different 13\\nto the test set. 32x32 bitmaps are divided into nonoverlapping blocks of\\n4x4 and the number of on pixels are counted in each block. This generates\\nan input matrix of 8x8 where each element is an integer in the range\\n0..16. This reduces dimensionality and gives invariance to small\\ndistortions.\\n\\nFor info on NIST preprocessing routines, see M. D. Garris, J. L. Blue, G.\\nT. Candela, D. L. Dimmick, J. Geist, P. J. Grother, S. A. Janet, and C.\\nL. Wilson, NIST Form-Based Handprint Recognition System, NISTIR 5469,\\n1994.\\n\\n.. topic:: References\\n\\n  - C. Kaynak (1995) Methods of Combining Multiple Classifiers and Their\\n    Applications to Handwritten Digit Recognition, MSc Thesis, Institute of\\n    Graduate Studies in Science and Engineering, Bogazici University.\\n  - E. Alpaydin, C. Kaynak (1998) Cascading Classifiers, Kybernetika.\\n  - Ken Tang and Ponnuthurai N. Suganthan and Xi Yao and A. Kai Qin.\\n    Linear dimensionalityreduction using relevance weighted LDA. School of\\n    Electrical and Electronic Engineering Nanyang Technological University.\\n    2005.\\n  - Claudio Gentile. A New Approximate Maximal Margin Classification\\n    Algorithm. NIPS. 2000.\\n\"}"
      ]
     },
     "execution_count": 6,
     "metadata": {},
     "output_type": "execute_result"
    }
   ],
   "source": [
    "digits_dataset = load_digits()\n",
    "digits_dataset"
   ]
  },
  {
   "cell_type": "code",
   "execution_count": 7,
   "id": "3073dda6",
   "metadata": {
    "scrolled": true
   },
   "outputs": [
    {
     "data": {
      "text/plain": [
       "array([[ 0.,  0.,  5., ...,  0.,  0.,  0.],\n",
       "       [ 0.,  0.,  0., ..., 10.,  0.,  0.],\n",
       "       [ 0.,  0.,  0., ..., 16.,  9.,  0.],\n",
       "       ...,\n",
       "       [ 0.,  0.,  1., ...,  6.,  0.,  0.],\n",
       "       [ 0.,  0.,  2., ..., 12.,  0.,  0.],\n",
       "       [ 0.,  0., 10., ..., 12.,  1.,  0.]])"
      ]
     },
     "execution_count": 7,
     "metadata": {},
     "output_type": "execute_result"
    }
   ],
   "source": [
    "digits_arr = digits_dataset['data']\n",
    "digits_arr"
   ]
  },
  {
   "cell_type": "code",
   "execution_count": 8,
   "id": "07a5f474",
   "metadata": {},
   "outputs": [
    {
     "data": {
      "text/plain": [
       "(1797, 64)"
      ]
     },
     "execution_count": 8,
     "metadata": {},
     "output_type": "execute_result"
    }
   ],
   "source": [
    "np.shape(digits_arr)"
   ]
  },
  {
   "cell_type": "markdown",
   "id": "475247d4",
   "metadata": {},
   "source": [
    "There are 1797 8x8 (64 pixels total) images, where each image is hand-written digit."
   ]
  },
  {
   "cell_type": "markdown",
   "id": "a83df674",
   "metadata": {},
   "source": [
    "### Split data into training and validation sets."
   ]
  },
  {
   "cell_type": "markdown",
   "id": "8427ad10",
   "metadata": {},
   "source": [
    "Split the data into 75% training, and 25% testing sets."
   ]
  },
  {
   "cell_type": "code",
   "execution_count": 9,
   "id": "88b65d91",
   "metadata": {},
   "outputs": [],
   "source": [
    "X_train, X_test, y_train, y_test = train_test_split(digits_arr, digits_arr, test_size = 0.25, random_state = 0)"
   ]
  },
  {
   "cell_type": "code",
   "execution_count": 10,
   "id": "0068b224",
   "metadata": {},
   "outputs": [
    {
     "data": {
      "text/plain": [
       "(1347, 64)"
      ]
     },
     "execution_count": 10,
     "metadata": {},
     "output_type": "execute_result"
    }
   ],
   "source": [
    "np.shape(X_train)"
   ]
  },
  {
   "cell_type": "code",
   "execution_count": 11,
   "id": "abcdf2ee",
   "metadata": {
    "scrolled": false
   },
   "outputs": [
    {
     "data": {
      "text/plain": [
       "(450, 64)"
      ]
     },
     "execution_count": 11,
     "metadata": {},
     "output_type": "execute_result"
    }
   ],
   "source": [
    "np.shape(X_test)"
   ]
  },
  {
   "cell_type": "code",
   "execution_count": 12,
   "id": "ac9aa4e8",
   "metadata": {
    "scrolled": false
   },
   "outputs": [
    {
     "data": {
      "text/plain": [
       "array([[ 0.,  3., 13., 16.,  9.,  0.,  0.,  0.,  0., 10., 15., 13., 15.,\n",
       "         2.,  0.,  0.,  0., 15.,  4.,  4., 16.,  1.,  0.,  0.,  0.,  0.,\n",
       "         0.,  5., 16.,  2.,  0.,  0.,  0.,  0.,  1., 14., 13.,  0.,  0.,\n",
       "         0.,  0.,  0., 10., 16.,  5.,  0.,  0.,  0.,  0.,  4., 16., 13.,\n",
       "         8., 10.,  9.,  1.,  0.,  2., 16., 16., 14., 12.,  9.,  1.],\n",
       "       [ 0.,  0.,  1., 14., 13.,  4.,  0.,  0.,  0.,  3., 15., 12., 11.,\n",
       "        15.,  0.,  0.,  0.,  8., 11.,  1.,  7., 13.,  0.,  0.,  0.,  1.,\n",
       "        13., 14., 16.,  1.,  0.,  0.,  0.,  0.,  0., 14., 13., 14.,  2.,\n",
       "         0.,  0.,  0.,  2., 12.,  0.,  9.,  8.,  0.,  0.,  0.,  3., 13.,\n",
       "         4., 12.,  6.,  0.,  0.,  0.,  0.,  9., 14., 13.,  1.,  0.],\n",
       "       [ 0.,  0.,  4., 10., 13.,  6.,  0.,  0.,  0.,  1., 16., 14., 12.,\n",
       "        16.,  3.,  0.,  0.,  4., 16.,  6.,  3., 16.,  4.,  0.,  0.,  0.,\n",
       "        12., 16., 16., 16.,  5.,  0.,  0.,  0.,  0.,  4.,  4., 16.,  8.,\n",
       "         0.,  0.,  0.,  0.,  0.,  0., 15.,  5.,  0.,  0.,  0.,  5.,  7.,\n",
       "         7., 16.,  4.,  0.,  0.,  0.,  2., 14., 15.,  9.,  0.,  0.]])"
      ]
     },
     "execution_count": 12,
     "metadata": {},
     "output_type": "execute_result"
    }
   ],
   "source": [
    "X_train[:3]"
   ]
  },
  {
   "cell_type": "code",
   "execution_count": 13,
   "id": "74c6569d",
   "metadata": {},
   "outputs": [
    {
     "data": {
      "text/plain": [
       "array([[ 0.,  3., 13., 16.,  9.,  0.,  0.,  0.,  0., 10., 15., 13., 15.,\n",
       "         2.,  0.,  0.,  0., 15.,  4.,  4., 16.,  1.,  0.,  0.,  0.,  0.,\n",
       "         0.,  5., 16.,  2.,  0.,  0.,  0.,  0.,  1., 14., 13.,  0.,  0.,\n",
       "         0.,  0.,  0., 10., 16.,  5.,  0.,  0.,  0.,  0.,  4., 16., 13.,\n",
       "         8., 10.,  9.,  1.,  0.,  2., 16., 16., 14., 12.,  9.,  1.],\n",
       "       [ 0.,  0.,  1., 14., 13.,  4.,  0.,  0.,  0.,  3., 15., 12., 11.,\n",
       "        15.,  0.,  0.,  0.,  8., 11.,  1.,  7., 13.,  0.,  0.,  0.,  1.,\n",
       "        13., 14., 16.,  1.,  0.,  0.,  0.,  0.,  0., 14., 13., 14.,  2.,\n",
       "         0.,  0.,  0.,  2., 12.,  0.,  9.,  8.,  0.,  0.,  0.,  3., 13.,\n",
       "         4., 12.,  6.,  0.,  0.,  0.,  0.,  9., 14., 13.,  1.,  0.],\n",
       "       [ 0.,  0.,  4., 10., 13.,  6.,  0.,  0.,  0.,  1., 16., 14., 12.,\n",
       "        16.,  3.,  0.,  0.,  4., 16.,  6.,  3., 16.,  4.,  0.,  0.,  0.,\n",
       "        12., 16., 16., 16.,  5.,  0.,  0.,  0.,  0.,  4.,  4., 16.,  8.,\n",
       "         0.,  0.,  0.,  0.,  0.,  0., 15.,  5.,  0.,  0.,  0.,  5.,  7.,\n",
       "         7., 16.,  4.,  0.,  0.,  0.,  2., 14., 15.,  9.,  0.,  0.]])"
      ]
     },
     "execution_count": 13,
     "metadata": {},
     "output_type": "execute_result"
    }
   ],
   "source": [
    "y_train[:3]"
   ]
  },
  {
   "cell_type": "markdown",
   "id": "0085a423",
   "metadata": {},
   "source": [
    "### Determine best hyperparameters."
   ]
  },
  {
   "cell_type": "markdown",
   "id": "13c17f7f",
   "metadata": {},
   "source": [
    "I generate my autoencoder using ReLu as the activation function and MSE as the loss function since the output is not binary and the task is akin to linear regression. Here I test a series of hyperparameters in my autoencoder to determined the optimal learning rate, batch size, and number of epochs. The architecture of my autoencoder has 3 layers total (input layer, hidden layer, and output layer), which takes an input and encodes it into a lower-dimensional latent space to decode and reconstruct it. This means my neural network should be 64x16x64."
   ]
  },
  {
   "cell_type": "code",
   "execution_count": 14,
   "id": "da7269d5",
   "metadata": {},
   "outputs": [],
   "source": [
    "# Initialize nn architecture.\n",
    "nn_arch = [{'input_dim': 64, 'output_dim': 16, 'activation': 'relu'},\n",
    "           {'input_dim': 16, 'output_dim': 64, 'activation': 'relu'}]\n",
    "\n",
    "# Create series of hyperparameters to test.\n",
    "lrs = [0.1, 0.01, 0.001, 0.0001, 0.00001]\n",
    "batch_sizes = [10, 25, 50, 100, 200]\n",
    "epochs = [10, 25, 50, 100, 200, 500]\n",
    "\n",
    "# Initialize list losses and parameters test runs.\n",
    "losses = []\n",
    "test_runs = []\n",
    "\n",
    "# Test hyperparameters in series.\n",
    "for lr in lrs:\n",
    "    for bs in batch_sizes:\n",
    "        for e in epochs:\n",
    "            # Generate autoenconder with current hyperparameters.\n",
    "            test_autoencoder = nn.NeuralNetwork(nn_arch,\n",
    "                                                 lr = lr, \n",
    "                                                 batch_size = bs,\n",
    "                                                 epochs = e,\n",
    "                                                 seed = seed,\n",
    "                                                 loss_function = \"mse\")\n",
    "            loss_train, loss_val = test_autoencoder.fit(X_train, y_train, X_test, y_test) # Train autoencoder.\n",
    "            min_loss = min(loss_val) # Add minimal loss value to store best final model.\n",
    "            test_runs.append([lr, bs, e, min_loss]) # Append list of hyperparameters and loss to full list."
   ]
  },
  {
   "cell_type": "code",
   "execution_count": 15,
   "id": "4f9eff9d",
   "metadata": {},
   "outputs": [
    {
     "data": {
      "text/plain": [
       "[[0.1, 10, 10, 59.496430490919664],\n",
       " [0.1, 10, 25, 59.496300140259],\n",
       " [0.1, 10, 50, 59.496217142467145],\n",
       " [0.1, 10, 100, 59.49617620286681],\n",
       " [0.1, 10, 200, 59.49617620286681],\n",
       " [0.1, 10, 500, 59.49592275002303],\n",
       " [0.1, 25, 10, 58.248622749834595],\n",
       " [0.1, 25, 25, 58.24844383163292],\n",
       " [0.1, 25, 50, 58.248299791315155],\n",
       " [0.1, 25, 100, 58.2481989945381],\n",
       " [0.1, 25, 200, 58.248141267660564],\n",
       " [0.1, 25, 500, 58.248141267660564],\n",
       " [0.1, 50, 10, 58.264230218701194],\n",
       " [0.1, 50, 25, 58.264230218701194],\n",
       " [0.1, 50, 50, 58.26411779283109],\n",
       " [0.1, 50, 100, 58.26397085843549],\n",
       " [0.1, 50, 200, 58.26397085843549],\n",
       " [0.1, 50, 500, 58.26371977609682],\n",
       " [0.1, 100, 10, 58.29442741092728],\n",
       " [0.1, 100, 25, 58.29442741092728],\n",
       " [0.1, 100, 50, 58.29442741092728],\n",
       " [0.1, 100, 100, 58.29442741092728],\n",
       " [0.1, 100, 200, 58.2944136434509],\n",
       " [0.1, 100, 500, 58.29428622695219],\n",
       " [0.1, 200, 10, 58.24580169205567],\n",
       " [0.1, 200, 25, 58.24550530919712],\n",
       " [0.1, 200, 50, 58.24550530919712],\n",
       " [0.1, 200, 100, 58.24534076407672],\n",
       " [0.1, 200, 200, 58.24534076407672],\n",
       " [0.1, 200, 500, 58.24514140117953],\n",
       " [0.01, 10, 10, 59.47630887283705],\n",
       " [0.01, 10, 25, 59.4762885231098],\n",
       " [0.01, 10, 50, 59.4762885231098],\n",
       " [0.01, 10, 100, 59.476287665936766],\n",
       " [0.01, 10, 200, 59.47624984821487],\n",
       " [0.01, 10, 500, 59.47624984821487],\n",
       " [0.01, 25, 10, 56.9667937368346],\n",
       " [0.01, 25, 25, 56.96649703107959],\n",
       " [0.01, 25, 50, 56.96649703107959],\n",
       " [0.01, 25, 100, 56.96649703107959],\n",
       " [0.01, 25, 200, 56.96646125360552],\n",
       " [0.01, 25, 500, 56.96644432832168],\n",
       " [0.01, 50, 10, 56.96746091632558],\n",
       " [0.01, 50, 25, 56.96656755502559],\n",
       " [0.01, 50, 50, 56.96656755502559],\n",
       " [0.01, 50, 100, 56.96656755502559],\n",
       " [0.01, 50, 200, 56.966540668423335],\n",
       " [0.01, 50, 500, 56.966524287793725],\n",
       " [0.01, 100, 10, 56.993668289815254],\n",
       " [0.01, 100, 25, 56.966715512742546],\n",
       " [0.01, 100, 50, 56.96664944537573],\n",
       " [0.01, 100, 100, 56.96664930766467],\n",
       " [0.01, 100, 200, 56.966615403110794],\n",
       " [0.01, 100, 500, 56.96660803232472],\n",
       " [0.01, 200, 10, 57.236477168123606],\n",
       " [0.01, 200, 25, 56.971468233288604],\n",
       " [0.01, 200, 50, 56.96674523589473],\n",
       " [0.01, 200, 100, 56.966697340453486],\n",
       " [0.01, 200, 200, 56.966678522217194],\n",
       " [0.01, 200, 500, 56.966669709841085],\n",
       " [0.001, 10, 10, 40.16383457332144],\n",
       " [0.001, 10, 25, 40.01208676756626],\n",
       " [0.001, 10, 50, 40.01208676756626],\n",
       " [0.001, 10, 100, 40.01208676756626],\n",
       " [0.001, 10, 200, 40.01208676756626],\n",
       " [0.001, 10, 500, 40.01208676756626],\n",
       " [0.001, 25, 10, 40.21631830554829],\n",
       " [0.001, 25, 25, 36.280163399545344],\n",
       " [0.001, 25, 50, 36.15075106345816],\n",
       " [0.001, 25, 100, 36.15075106345816],\n",
       " [0.001, 25, 200, 36.15075106345816],\n",
       " [0.001, 25, 500, 36.15075106345816],\n",
       " [0.001, 50, 10, 46.42091660370992],\n",
       " [0.001, 50, 25, 39.356559111695795],\n",
       " [0.001, 50, 50, 37.807912602201746],\n",
       " [0.001, 50, 100, 37.72650663050531],\n",
       " [0.001, 50, 200, 37.72650663050531],\n",
       " [0.001, 50, 500, 37.72650663050531],\n",
       " [0.001, 100, 10, 52.145864170409894],\n",
       " [0.001, 100, 25, 44.49555484251373],\n",
       " [0.001, 100, 50, 40.1844382097563],\n",
       " [0.001, 100, 100, 38.92918228728674],\n",
       " [0.001, 100, 200, 38.87456702516006],\n",
       " [0.001, 100, 500, 38.87456702516006],\n",
       " [0.001, 200, 10, 55.68439911726493],\n",
       " [0.001, 200, 25, 49.80784454798088],\n",
       " [0.001, 200, 50, 44.17288007788763],\n",
       " [0.001, 200, 100, 40.04723019952734],\n",
       " [0.001, 200, 200, 38.848253574367355],\n",
       " [0.001, 200, 500, 38.796661250205275],\n",
       " [0.0001, 10, 10, 8.00233653233665],\n",
       " [0.0001, 10, 25, 7.661998447526518],\n",
       " [0.0001, 10, 50, 5.944116399899739],\n",
       " [0.0001, 10, 100, 5.679226872202044],\n",
       " [0.0001, 10, 200, 5.660101974435323],\n",
       " [0.0001, 10, 500, 5.409928776117641],\n",
       " [0.0001, 25, 10, 10.9609946424505],\n",
       " [0.0001, 25, 25, 9.745538128723112],\n",
       " [0.0001, 25, 50, 9.496665493386365],\n",
       " [0.0001, 25, 100, 5.844565640307652],\n",
       " [0.0001, 25, 200, 5.609702691263817],\n",
       " [0.0001, 25, 500, 5.585907230243113],\n",
       " [0.0001, 50, 10, 12.502332003552423],\n",
       " [0.0001, 50, 25, 8.439068422903254],\n",
       " [0.0001, 50, 50, 7.775148601228669],\n",
       " [0.0001, 50, 100, 7.57869019169657],\n",
       " [0.0001, 50, 200, 7.526060986481112],\n",
       " [0.0001, 50, 500, 5.581695228266399],\n",
       " [0.0001, 100, 10, 18.19648141399849],\n",
       " [0.0001, 100, 25, 13.179890510583247],\n",
       " [0.0001, 100, 50, 10.308896666946366],\n",
       " [0.0001, 100, 100, 9.628566319660537],\n",
       " [0.0001, 100, 200, 9.411518201910228],\n",
       " [0.0001, 100, 500, 5.627646006135795],\n",
       " [0.0001, 200, 10, 23.20842908407567],\n",
       " [0.0001, 200, 25, 15.524989846636837],\n",
       " [0.0001, 200, 50, 13.057365969104591],\n",
       " [0.0001, 200, 100, 10.35280912897725],\n",
       " [0.0001, 200, 200, 9.612511697901796],\n",
       " [0.0001, 200, 500, 9.37808712862191],\n",
       " [1e-05, 10, 10, 18.325937980640298],\n",
       " [1e-05, 10, 25, 13.255087003597897],\n",
       " [1e-05, 10, 50, 11.90250083118806],\n",
       " [1e-05, 10, 100, 9.649270364523684],\n",
       " [1e-05, 10, 200, 9.400860267204276],\n",
       " [1e-05, 10, 500, 7.398741937129302],\n",
       " [1e-05, 25, 10, 24.237039338412178],\n",
       " [1e-05, 25, 25, 17.789695805901538],\n",
       " [1e-05, 25, 50, 13.726412457098446],\n",
       " [1e-05, 25, 100, 12.164684854337407],\n",
       " [1e-05, 25, 200, 9.972866832402667],\n",
       " [1e-05, 25, 500, 9.403382543093072],\n",
       " [1e-05, 50, 10, 26.371042964142863],\n",
       " [1e-05, 50, 25, 22.79235108638085],\n",
       " [1e-05, 50, 50, 17.64953921422846],\n",
       " [1e-05, 50, 100, 13.675452108998787],\n",
       " [1e-05, 50, 200, 12.14305277029548],\n",
       " [1e-05, 50, 500, 11.179630024837847],\n",
       " [1e-05, 100, 10, 27.007597329142275],\n",
       " [1e-05, 100, 25, 25.118975004056523],\n",
       " [1e-05, 100, 50, 22.409928720372903],\n",
       " [1e-05, 100, 100, 17.43017172533476],\n",
       " [1e-05, 100, 200, 13.558546633931646],\n",
       " [1e-05, 100, 500, 11.755828258549718],\n",
       " [1e-05, 200, 10, 30.577856773398715],\n",
       " [1e-05, 200, 25, 26.721653217060737],\n",
       " [1e-05, 200, 50, 25.029727675085464],\n",
       " [1e-05, 200, 100, 22.305793831953018],\n",
       " [1e-05, 200, 200, 17.39582740175906],\n",
       " [1e-05, 200, 500, 12.974743357386503]]"
      ]
     },
     "execution_count": 15,
     "metadata": {},
     "output_type": "execute_result"
    }
   ],
   "source": [
    "test_runs"
   ]
  },
  {
   "cell_type": "code",
   "execution_count": 17,
   "id": "69ca7946",
   "metadata": {
    "scrolled": true
   },
   "outputs": [
    {
     "data": {
      "text/html": [
       "<div>\n",
       "<style scoped>\n",
       "    .dataframe tbody tr th:only-of-type {\n",
       "        vertical-align: middle;\n",
       "    }\n",
       "\n",
       "    .dataframe tbody tr th {\n",
       "        vertical-align: top;\n",
       "    }\n",
       "\n",
       "    .dataframe thead th {\n",
       "        text-align: right;\n",
       "    }\n",
       "</style>\n",
       "<table border=\"1\" class=\"dataframe\">\n",
       "  <thead>\n",
       "    <tr style=\"text-align: right;\">\n",
       "      <th></th>\n",
       "      <th>Learning Rate</th>\n",
       "      <th>Batch Size</th>\n",
       "      <th>Epochs</th>\n",
       "      <th>Validation MSE</th>\n",
       "    </tr>\n",
       "  </thead>\n",
       "  <tbody>\n",
       "    <tr>\n",
       "      <th>95</th>\n",
       "      <td>0.0001</td>\n",
       "      <td>10</td>\n",
       "      <td>500</td>\n",
       "      <td>5.409929</td>\n",
       "    </tr>\n",
       "    <tr>\n",
       "      <th>107</th>\n",
       "      <td>0.0001</td>\n",
       "      <td>50</td>\n",
       "      <td>500</td>\n",
       "      <td>5.581695</td>\n",
       "    </tr>\n",
       "    <tr>\n",
       "      <th>101</th>\n",
       "      <td>0.0001</td>\n",
       "      <td>25</td>\n",
       "      <td>500</td>\n",
       "      <td>5.585907</td>\n",
       "    </tr>\n",
       "  </tbody>\n",
       "</table>\n",
       "</div>"
      ],
      "text/plain": [
       "     Learning Rate  Batch Size  Epochs  Validation MSE\n",
       "95          0.0001          10     500        5.409929\n",
       "107         0.0001          50     500        5.581695\n",
       "101         0.0001          25     500        5.585907"
      ]
     },
     "execution_count": 17,
     "metadata": {},
     "output_type": "execute_result"
    }
   ],
   "source": [
    "# Convert list of potential optimal hyperparameters to dataframe for easy viewing.\n",
    "optimal_df = pd.DataFrame(test_runs)\n",
    "optimal_df.columns = ['Learning Rate', 'Batch Size', 'Epochs', 'Validation MSE']\n",
    "optimal_df.sort_values('Validation MSE').head(3)"
   ]
  },
  {
   "cell_type": "markdown",
   "id": "951520a9",
   "metadata": {},
   "source": [
    "#### The best combination of hyperparameters that yield the minimum validation mse loss are:\n",
    "<br>\n",
    "Learning Rate: 0.0001\n",
    "<br>\n",
    "Batch Size: 10\n",
    "<br>\n",
    "Epochs: 500"
   ]
  },
  {
   "cell_type": "markdown",
   "id": "94fb5de4",
   "metadata": {},
   "source": [
    "### Plot training and validation loss by epoch for best network."
   ]
  },
  {
   "cell_type": "code",
   "execution_count": 22,
   "id": "90229b99",
   "metadata": {},
   "outputs": [],
   "source": [
    "# Define function to plot training and validation losses.\n",
    "def plot_losses(loss_train, loss_val):\n",
    "    plt.plot(loss_train, label='Training Loss')\n",
    "    plt.plot(loss_val, label='Validation Loss')\n",
    "    plt.xlabel('Epoch')\n",
    "    plt.ylabel('MSE Loss')\n",
    "    plt.legend()\n",
    "    plt.show()"
   ]
  },
  {
   "cell_type": "code",
   "execution_count": 23,
   "id": "0679ed97",
   "metadata": {},
   "outputs": [],
   "source": [
    "# Generate nueral network for autoencoder using best hyperparameters.\n",
    "autoencoder = nn.NeuralNetwork(nn_arch, lr = 0.0001, seed = seed, batch_size = 10, epochs = 500, loss_function = \"mse\")\n",
    "loss_train, loss_val = autoencoder.fit(X_train, y_train, X_test, y_test)"
   ]
  },
  {
   "cell_type": "code",
   "execution_count": 24,
   "id": "e5c75059",
   "metadata": {},
   "outputs": [
    {
     "data": {
      "image/png": "[encoded data removed]",
      "text/plain": [
       "<Figure size 640x480 with 1 Axes>"
      ]
     },
     "metadata": {},
     "output_type": "display_data"
    }
   ],
   "source": [
    "# Plot losses side by side.\n",
    "plot_losses(loss_train, loss_val)"
   ]
  },
  {
   "cell_type": "markdown",
   "id": "823a64ce",
   "metadata": {},
   "source": [
    "### Quantify (and visualize) reconstruction error."
   ]
  },
  {
   "cell_type": "code",
   "execution_count": 25,
   "id": "f4edf183",
   "metadata": {},
   "outputs": [
    {
     "data": {
      "text/plain": [
       "5.409928776117641"
      ]
     },
     "execution_count": 25,
     "metadata": {},
     "output_type": "execute_result"
    }
   ],
   "source": [
    "# Reconstruction error = MSE of validation set.\n",
    "min(loss_val)"
   ]
  },
  {
   "cell_type": "code",
   "execution_count": 21,
   "id": "6f849ab7",
   "metadata": {},
   "outputs": [
    {
     "data": {
      "image/png": "[encoded data removed]",
      "text/plain": [
       "<Figure size 400x1000 with 10 Axes>"
      ]
     },
     "metadata": {},
     "output_type": "display_data"
    }
   ],
   "source": [
    "# Compare autoencoding to original images visually.\n",
    "image, axis = plt.subplots(5,2, figsize=(4,10))\n",
    "axis[0,0].set_title('Original image')\n",
    "axis[0,1].set_title('Decoded image')\n",
    "\n",
    "for row, digit in enumerate(X_test[:5]):\n",
    "    axis[row, 0].imshow(digit.reshape((8,8)), cmap=plt.get_cmap('gray'))\n",
    "    axis[row, 1].imshow(autoencoder.predict(digit).reshape((8,8)), cmap=plt.get_cmap('gray'))\n",
    "\n",
    "plt.show()"
   ]
  }
 ],
 "metadata": {
  "kernelspec": {
   "display_name": "Python 3 (ipykernel)",
   "language": "python",
   "name": "python3"
  },
  "language_info": {
   "codemirror_mode": {
    "name": "ipython",
    "version": 3
   },
   "file_extension": ".py",
   "mimetype": "text/x-python",
   "name": "python",
   "nbconvert_exporter": "python",
   "pygments_lexer": "ipython3",
   "version": "3.10.9"
  }
 },
 "nbformat": 4,
 "nbformat_minor": 5
}
