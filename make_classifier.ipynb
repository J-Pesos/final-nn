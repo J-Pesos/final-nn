{
 "cells": [
  {
   "cell_type": "markdown",
   "id": "c72a5cf8",
   "metadata": {},
   "source": [
    "# BMI 203: Step 3: Make Your Classifier"
   ]
  },
  {
   "cell_type": "markdown",
   "id": "0f3f39ac",
   "metadata": {},
   "source": [
    "This Jupyter notebook classifies Rap1 transcription factors using a neural network."
   ]
  },
  {
   "cell_type": "markdown",
   "id": "ce54fb5d",
   "metadata": {},
   "source": [
    "### Import modules."
   ]
  },
  {
   "cell_type": "code",
   "execution_count": 93,
   "id": "03edb450",
   "metadata": {},
   "outputs": [],
   "source": [
    "from nn import nn, preprocess, io\n",
    "import numpy as np\n",
    "from sklearn.datasets import load_digits\n",
    "from sklearn.model_selection import train_test_split\n",
    "import pandas as pd\n",
    "import matplotlib.pyplot as plt\n",
    "from sklearn.metrics import mean_squared_error"
   ]
  },
  {
   "cell_type": "code",
   "execution_count": 94,
   "id": "d4991b6b",
   "metadata": {},
   "outputs": [
    {
     "name": "stdout",
     "output_type": "stream",
     "text": [
      "The autoreload extension is already loaded. To reload it, use:\n",
      "  %reload_ext autoreload\n"
     ]
    }
   ],
   "source": [
    "%load_ext autoreload\n",
    "%autoreload 2"
   ]
  },
  {
   "cell_type": "markdown",
   "id": "1c3f8d1f",
   "metadata": {},
   "source": [
    "Initalize seed for consistent results."
   ]
  },
  {
   "cell_type": "code",
   "execution_count": 95,
   "id": "870c58f3",
   "metadata": {},
   "outputs": [],
   "source": [
    "seed = 15"
   ]
  },
  {
   "cell_type": "markdown",
   "id": "027ad945",
   "metadata": {},
   "source": [
    "### Use read functions from io.py to read in positive and negative motif examples."
   ]
  },
  {
   "cell_type": "code",
   "execution_count": 96,
   "id": "2f15ad73",
   "metadata": {},
   "outputs": [],
   "source": [
    "pos = io.read_text_file(\"data/rap1-lieb-positives.txt\")\n",
    "neg = io.read_fasta_file(\"data/yeast-upstream-1k-negative.fa\")"
   ]
  },
  {
   "cell_type": "code",
   "execution_count": 97,
   "id": "aae0845a",
   "metadata": {
    "scrolled": false
   },
   "outputs": [
    {
     "data": {
      "text/plain": [
       "137"
      ]
     },
     "execution_count": 97,
     "metadata": {},
     "output_type": "execute_result"
    }
   ],
   "source": [
    "len(pos)"
   ]
  },
  {
   "cell_type": "markdown",
   "id": "3a3ef567",
   "metadata": {},
   "source": [
    "Determine lengths of positive and negative sequences."
   ]
  },
  {
   "cell_type": "code",
   "execution_count": 98,
   "id": "e4de9e84",
   "metadata": {
    "scrolled": false
   },
   "outputs": [
    {
     "name": "stdout",
     "output_type": "stream",
     "text": [
      "17\n",
      "17\n",
      "17\n",
      "17\n",
      "17\n"
     ]
    }
   ],
   "source": [
    "for seq in range(5):\n",
    "    print( len(pos[seq]) )"
   ]
  },
  {
   "cell_type": "code",
   "execution_count": 99,
   "id": "90ac8798",
   "metadata": {
    "scrolled": true
   },
   "outputs": [
    {
     "name": "stdout",
     "output_type": "stream",
     "text": [
      "1000\n",
      "1000\n",
      "1000\n",
      "1000\n",
      "1000\n"
     ]
    }
   ],
   "source": [
    "for seq in range(5):\n",
    "    print( len(neg[seq]) )"
   ]
  },
  {
   "cell_type": "markdown",
   "id": "8863e338",
   "metadata": {},
   "source": [
    "#### Make lengths of negative sequences equal those of positive sequences."
   ]
  },
  {
   "cell_type": "code",
   "execution_count": 100,
   "id": "207f225b",
   "metadata": {},
   "outputs": [],
   "source": [
    "new_neg = []\n",
    "for seq in neg:\n",
    "    len_17 = seq[:17]\n",
    "    new_neg += [len_17]"
   ]
  },
  {
   "cell_type": "code",
   "execution_count": 101,
   "id": "12983477",
   "metadata": {
    "scrolled": true
   },
   "outputs": [
    {
     "name": "stdout",
     "output_type": "stream",
     "text": [
      "17\n",
      "17\n",
      "17\n",
      "17\n",
      "17\n"
     ]
    }
   ],
   "source": [
    "for seq in range(5):\n",
    "    print( len(new_neg[seq]) )"
   ]
  },
  {
   "cell_type": "markdown",
   "id": "7035c93a",
   "metadata": {},
   "source": [
    "Combine positve and shortened negative sequences into one list and generate corresponding labels."
   ]
  },
  {
   "cell_type": "code",
   "execution_count": 102,
   "id": "9fea7611",
   "metadata": {},
   "outputs": [
    {
     "data": {
      "text/plain": [
       "3300"
      ]
     },
     "execution_count": 102,
     "metadata": {},
     "output_type": "execute_result"
    }
   ],
   "source": [
    "seqs = list(pos) + list(new_neg)\n",
    "len(seqs)"
   ]
  },
  {
   "cell_type": "code",
   "execution_count": 103,
   "id": "ed480a3e",
   "metadata": {},
   "outputs": [
    {
     "data": {
      "text/plain": [
       "3300"
      ]
     },
     "execution_count": 103,
     "metadata": {},
     "output_type": "execute_result"
    }
   ],
   "source": [
    "labels = [True] * len(pos) + [False] * len(new_neg)\n",
    "len(labels)"
   ]
  },
  {
   "cell_type": "markdown",
   "id": "8cc4e207",
   "metadata": {},
   "source": [
    "### Balance classes using sample_seq function."
   ]
  },
  {
   "cell_type": "markdown",
   "id": "cb589197",
   "metadata": {},
   "source": [
    "My sampling method with replacement defines two arrays: one of the positive and one of the negative sequence indices of the concatenated list of sequences. I then perform a \"coin-flip\", and randomly generate either a 0 or 1 as a 50/50 probability. For each sequence in the concatenated list of sequences, sample a posititive sequence if value is 1, otherwise sample a negative sequence. Ultimately, this should yield a sampling of sequences with relatively balanced classes."
   ]
  },
  {
   "cell_type": "code",
   "execution_count": 104,
   "id": "6a40ca26",
   "metadata": {},
   "outputs": [],
   "source": [
    "sampled_seqs, sampled_labels = preprocess.sample_seqs(seqs, labels)"
   ]
  },
  {
   "cell_type": "code",
   "execution_count": 105,
   "id": "c74fca0f",
   "metadata": {},
   "outputs": [
    {
     "data": {
      "text/plain": [
       "3300"
      ]
     },
     "execution_count": 105,
     "metadata": {},
     "output_type": "execute_result"
    }
   ],
   "source": [
    "len(sampled_seqs)"
   ]
  },
  {
   "cell_type": "code",
   "execution_count": 106,
   "id": "d0cafbde",
   "metadata": {
    "scrolled": true
   },
   "outputs": [
    {
     "data": {
      "text/plain": [
       "3300"
      ]
     },
     "execution_count": 106,
     "metadata": {},
     "output_type": "execute_result"
    }
   ],
   "source": [
    "len(sampled_labels)"
   ]
  },
  {
   "cell_type": "markdown",
   "id": "63c3c023",
   "metadata": {},
   "source": [
    "Check to see if classes are relatively balanced."
   ]
  },
  {
   "cell_type": "code",
   "execution_count": 107,
   "id": "f7b74bd7",
   "metadata": {},
   "outputs": [],
   "source": [
    "pos_labs = []\n",
    "neg_labs = []\n",
    "for lab in sampled_labels:\n",
    "    if lab == True:\n",
    "        pos_labs += [lab]\n",
    "    else:\n",
    "        neg_labs += [lab]"
   ]
  },
  {
   "cell_type": "code",
   "execution_count": 108,
   "id": "83f57962",
   "metadata": {
    "scrolled": true
   },
   "outputs": [
    {
     "data": {
      "text/plain": [
       "1684"
      ]
     },
     "execution_count": 108,
     "metadata": {},
     "output_type": "execute_result"
    }
   ],
   "source": [
    "len(pos_labs)"
   ]
  },
  {
   "cell_type": "code",
   "execution_count": 109,
   "id": "d6042ab8",
   "metadata": {
    "scrolled": true
   },
   "outputs": [
    {
     "data": {
      "text/plain": [
       "1616"
      ]
     },
     "execution_count": 109,
     "metadata": {},
     "output_type": "execute_result"
    }
   ],
   "source": [
    "len(neg_labs)"
   ]
  },
  {
   "cell_type": "markdown",
   "id": "68774e80",
   "metadata": {},
   "source": [
    "### One-hot encode sampled labels."
   ]
  },
  {
   "cell_type": "code",
   "execution_count": 110,
   "id": "8e85c86f",
   "metadata": {},
   "outputs": [],
   "source": [
    "one_hot_sampled = preprocess.one_hot_encode_seqs(sampled_seqs)"
   ]
  },
  {
   "cell_type": "code",
   "execution_count": 111,
   "id": "f89d3860",
   "metadata": {},
   "outputs": [
    {
     "data": {
      "text/plain": [
       "array([[1, 0, 0, 0, 1, 0, 0, 0, 1, 0, 0, 0, 0, 0, 1, 0, 0, 0, 1, 0, 0, 0,\n",
       "        1, 0, 0, 0, 0, 1, 0, 0, 0, 1, 1, 0, 0, 0, 0, 0, 1, 0, 1, 0, 0, 0,\n",
       "        0, 1, 0, 0, 0, 1, 0, 0, 0, 0, 1, 0, 0, 0, 1, 0, 1, 0, 0, 0, 0, 1,\n",
       "        0, 0],\n",
       "       [1, 0, 0, 0, 0, 0, 1, 0, 1, 0, 0, 0, 0, 1, 0, 0, 0, 0, 1, 0, 0, 0,\n",
       "        1, 0, 0, 0, 0, 1, 0, 1, 0, 0, 0, 0, 0, 1, 0, 0, 1, 0, 1, 0, 0, 0,\n",
       "        0, 1, 0, 0, 0, 1, 0, 0, 1, 0, 0, 0, 0, 0, 1, 0, 1, 0, 0, 0, 0, 1,\n",
       "        0, 0],\n",
       "       [0, 0, 1, 0, 1, 0, 0, 0, 0, 0, 0, 1, 1, 0, 0, 0, 0, 0, 1, 0, 0, 0,\n",
       "        1, 0, 0, 0, 0, 1, 0, 0, 0, 1, 0, 1, 0, 0, 0, 1, 0, 0, 1, 0, 0, 0,\n",
       "        0, 1, 0, 0, 1, 0, 0, 0, 0, 0, 1, 0, 0, 0, 0, 1, 1, 0, 0, 0, 1, 0,\n",
       "        0, 0],\n",
       "       [1, 0, 0, 0, 0, 0, 1, 0, 1, 0, 0, 0, 0, 0, 1, 0, 0, 0, 1, 0, 0, 0,\n",
       "        1, 0, 1, 0, 0, 0, 0, 1, 0, 0, 1, 0, 0, 0, 0, 0, 1, 0, 0, 0, 1, 0,\n",
       "        0, 0, 1, 0, 0, 0, 1, 0, 1, 0, 0, 0, 0, 1, 0, 0, 1, 0, 0, 0, 1, 0,\n",
       "        0, 0]])"
      ]
     },
     "execution_count": 111,
     "metadata": {},
     "output_type": "execute_result"
    }
   ],
   "source": [
    "one_hot_sampled[1:5]"
   ]
  },
  {
   "cell_type": "code",
   "execution_count": 112,
   "id": "df5e703e",
   "metadata": {},
   "outputs": [
    {
     "data": {
      "text/plain": [
       "True"
      ]
     },
     "execution_count": 112,
     "metadata": {},
     "output_type": "execute_result"
    }
   ],
   "source": [
    "len( one_hot_sampled[0] ) == 17 * 4"
   ]
  },
  {
   "cell_type": "markdown",
   "id": "e68aa24d",
   "metadata": {},
   "source": [
    "### Split data into training and validation sets."
   ]
  },
  {
   "cell_type": "markdown",
   "id": "d0a21e06",
   "metadata": {},
   "source": [
    "Split the data into 75% training, and 25% testing sets."
   ]
  },
  {
   "cell_type": "code",
   "execution_count": 125,
   "id": "c6899bae",
   "metadata": {},
   "outputs": [],
   "source": [
    "X_train, X_test, y_train, y_test = train_test_split(one_hot_sampled, sampled_labels, test_size = 0.25, random_state = 0)"
   ]
  },
  {
   "cell_type": "markdown",
   "id": "a9ebeef7",
   "metadata": {},
   "source": [
    "Need to convert labels into a 2D array for network."
   ]
  },
  {
   "cell_type": "code",
   "execution_count": 126,
   "id": "b763bbe3",
   "metadata": {},
   "outputs": [],
   "source": [
    "# Convert labels into a 2D array.\n",
    "y_test = np.array(y_test)\n",
    "y_test = y_test.reshape(-1, 1)\n",
    "y_train = np.array(y_train)\n",
    "y_train = y_train.reshape(-1, 1)"
   ]
  },
  {
   "cell_type": "code",
   "execution_count": 127,
   "id": "03f060d9",
   "metadata": {},
   "outputs": [
    {
     "data": {
      "text/plain": [
       "(2475, 68)"
      ]
     },
     "execution_count": 127,
     "metadata": {},
     "output_type": "execute_result"
    }
   ],
   "source": [
    "np.shape(X_train)"
   ]
  },
  {
   "cell_type": "code",
   "execution_count": 128,
   "id": "27db7a22",
   "metadata": {
    "scrolled": true
   },
   "outputs": [
    {
     "data": {
      "text/plain": [
       "(825, 68)"
      ]
     },
     "execution_count": 128,
     "metadata": {},
     "output_type": "execute_result"
    }
   ],
   "source": [
    "np.shape(X_test)"
   ]
  },
  {
   "cell_type": "code",
   "execution_count": 136,
   "id": "308d23e8",
   "metadata": {},
   "outputs": [
    {
     "data": {
      "text/plain": [
       "array([[0, 0, 0, 1, 1, 0, 0, 0, 1, 0, 0, 0, 0, 0, 0, 1, 0, 1, 0, 0, 0, 0,\n",
       "        1, 0, 0, 0, 0, 1, 1, 0, 0, 0, 1, 0, 0, 0, 0, 0, 1, 0, 1, 0, 0, 0,\n",
       "        1, 0, 0, 0, 0, 0, 0, 1, 1, 0, 0, 0, 0, 0, 0, 1, 0, 0, 0, 1, 0, 1,\n",
       "        0, 0],\n",
       "       [0, 0, 1, 0, 1, 0, 0, 0, 1, 0, 0, 0, 1, 0, 0, 0, 1, 0, 0, 0, 0, 0,\n",
       "        1, 0, 1, 0, 0, 0, 1, 0, 0, 0, 0, 1, 0, 0, 0, 1, 0, 0, 1, 0, 0, 0,\n",
       "        0, 0, 1, 0, 0, 0, 1, 0, 1, 0, 0, 0, 0, 0, 1, 0, 0, 0, 1, 0, 0, 0,\n",
       "        0, 1],\n",
       "       [1, 0, 0, 0, 0, 0, 0, 1, 1, 0, 0, 0, 0, 1, 0, 0, 0, 0, 1, 0, 0, 0,\n",
       "        1, 0, 0, 0, 0, 1, 0, 1, 0, 0, 1, 0, 0, 0, 0, 0, 1, 0, 1, 0, 0, 0,\n",
       "        0, 1, 0, 0, 0, 0, 1, 0, 0, 1, 0, 0, 0, 1, 0, 0, 1, 0, 0, 0, 0, 0,\n",
       "        0, 1]])"
      ]
     },
     "execution_count": 136,
     "metadata": {},
     "output_type": "execute_result"
    }
   ],
   "source": [
    "X_train[:3]"
   ]
  },
  {
   "cell_type": "code",
   "execution_count": 137,
   "id": "a2abd777",
   "metadata": {
    "scrolled": true
   },
   "outputs": [
    {
     "data": {
      "text/plain": [
       "array([[False],\n",
       "       [False],\n",
       "       [ True]])"
      ]
     },
     "execution_count": 137,
     "metadata": {},
     "output_type": "execute_result"
    }
   ],
   "source": [
    "y_train[:3]"
   ]
  },
  {
   "cell_type": "markdown",
   "id": "5053c9d1",
   "metadata": {},
   "source": [
    "### Determine best hyperparameters."
   ]
  },
  {
   "cell_type": "markdown",
   "id": "974dd800",
   "metadata": {},
   "source": [
    "I generate my classifier using sigmoid as the activation function and BCE as the loss function since the output is binary and the task is akin to logistic regression. Here I test a series of hyperparameters in my classifer to determined the optimal learning rate, batch size, and number of epochs. The architecture of my classifer has 3 layers total (input layer, two hidden layers, and binary output layer). This means my neural network should be 68x34x17x1."
   ]
  },
  {
   "cell_type": "code",
   "execution_count": 138,
   "id": "6bf095f1",
   "metadata": {},
   "outputs": [],
   "source": [
    "# Initialize nn architecture.\n",
    "nn_arch = [{'input_dim': 68, 'output_dim': 34, 'activation': 'sigmoid'},\n",
    "           {'input_dim': 34, 'output_dim': 17, 'activation': 'sigmoid'},\n",
    "           {'input_dim': 17, 'output_dim': 1, 'activation': 'sigmoid'}\n",
    "          ]"
   ]
  },
  {
   "cell_type": "code",
   "execution_count": 143,
   "id": "bf41e0fb",
   "metadata": {},
   "outputs": [],
   "source": [
    "# Create series of hyperparameters to test. Testing less due to computation time requirement.\n",
    "lrs = [0.001, 0.0001, 0.00001]\n",
    "batch_sizes = [10, 25, 50]\n",
    "epochs = [100, 200, 500]\n",
    "\n",
    "# Initialize list losses and parameters test runs.\n",
    "losses = []\n",
    "test_runs = []\n",
    "\n",
    "# Test hyperparameters in series.\n",
    "for lr in lrs:\n",
    "    for bs in batch_sizes:\n",
    "        for e in epochs:\n",
    "            # Generate autoenconder with current hyperparameters.\n",
    "            test_classifer = nn.NeuralNetwork(nn_arch,\n",
    "                                              lr = lr,\n",
    "                                              batch_size = bs,\n",
    "                                              epochs = e,\n",
    "                                              seed = seed,\n",
    "                                              loss_function = \"bce\")\n",
    "            loss_train, loss_val = test_classifer.fit(X_train, y_train, X_test, y_test) # Train classifier.\n",
    "            min_loss = min(loss_val) # Add minimal loss value to store best final model.\n",
    "            test_runs.append([lr, bs, e, min_loss]) # Append list of hyperparameters and loss to full list."
   ]
  },
  {
   "cell_type": "code",
   "execution_count": 144,
   "id": "994b28e2",
   "metadata": {},
   "outputs": [
    {
     "data": {
      "text/plain": [
       "[[0.001, 10, 100, 0.6862022509115555],\n",
       " [0.001, 10, 200, 0.6367445948909503],\n",
       " [0.001, 10, 500, 0.03144490649959076],\n",
       " [0.001, 25, 100, 0.6906044755914438],\n",
       " [0.001, 25, 200, 0.6881064650067025],\n",
       " [0.001, 25, 500, 0.6360582584865777],\n",
       " [0.001, 50, 100, 0.69121168318724],\n",
       " [0.001, 50, 200, 0.6905626483008399],\n",
       " [0.001, 50, 500, 0.6859811141338729],\n",
       " [0.0001, 10, 100, 0.6912120160306522],\n",
       " [0.0001, 10, 200, 0.6912120160306522],\n",
       " [0.0001, 10, 500, 0.6900900842673515],\n",
       " [0.0001, 25, 100, 0.6913266495546464],\n",
       " [0.0001, 25, 200, 0.6912120362992915],\n",
       " [0.0001, 25, 500, 0.6912120362992915],\n",
       " [0.0001, 50, 100, 0.6935262252131658],\n",
       " [0.0001, 50, 200, 0.6913083544008478],\n",
       " [0.0001, 50, 500, 0.6912122053963948],\n",
       " [1e-05, 10, 100, 0.6977046723919608],\n",
       " [1e-05, 10, 200, 0.6935295167592973],\n",
       " [1e-05, 10, 500, 0.6912122596159621],\n",
       " [1e-05, 25, 100, 0.7024489518874834],\n",
       " [1e-05, 25, 200, 0.6990044417082122],\n",
       " [1e-05, 25, 500, 0.6935148933855172],\n",
       " [1e-05, 50, 100, 0.7045738328167818],\n",
       " [1e-05, 50, 200, 0.7023788358683711],\n",
       " [1e-05, 50, 500, 0.6975791831867884]]"
      ]
     },
     "execution_count": 144,
     "metadata": {},
     "output_type": "execute_result"
    }
   ],
   "source": [
    "test_runs"
   ]
  },
  {
   "cell_type": "code",
   "execution_count": 146,
   "id": "48118a57",
   "metadata": {},
   "outputs": [
    {
     "data": {
      "text/html": [
       "<div>\n",
       "<style scoped>\n",
       "    .dataframe tbody tr th:only-of-type {\n",
       "        vertical-align: middle;\n",
       "    }\n",
       "\n",
       "    .dataframe tbody tr th {\n",
       "        vertical-align: top;\n",
       "    }\n",
       "\n",
       "    .dataframe thead th {\n",
       "        text-align: right;\n",
       "    }\n",
       "</style>\n",
       "<table border=\"1\" class=\"dataframe\">\n",
       "  <thead>\n",
       "    <tr style=\"text-align: right;\">\n",
       "      <th></th>\n",
       "      <th>Learning Rate</th>\n",
       "      <th>Batch Size</th>\n",
       "      <th>Epochs</th>\n",
       "      <th>Validation BCE</th>\n",
       "    </tr>\n",
       "  </thead>\n",
       "  <tbody>\n",
       "    <tr>\n",
       "      <th>2</th>\n",
       "      <td>0.001</td>\n",
       "      <td>10</td>\n",
       "      <td>500</td>\n",
       "      <td>0.031445</td>\n",
       "    </tr>\n",
       "    <tr>\n",
       "      <th>5</th>\n",
       "      <td>0.001</td>\n",
       "      <td>25</td>\n",
       "      <td>500</td>\n",
       "      <td>0.636058</td>\n",
       "    </tr>\n",
       "    <tr>\n",
       "      <th>1</th>\n",
       "      <td>0.001</td>\n",
       "      <td>10</td>\n",
       "      <td>200</td>\n",
       "      <td>0.636745</td>\n",
       "    </tr>\n",
       "  </tbody>\n",
       "</table>\n",
       "</div>"
      ],
      "text/plain": [
       "   Learning Rate  Batch Size  Epochs  Validation BCE\n",
       "2          0.001          10     500        0.031445\n",
       "5          0.001          25     500        0.636058\n",
       "1          0.001          10     200        0.636745"
      ]
     },
     "execution_count": 146,
     "metadata": {},
     "output_type": "execute_result"
    }
   ],
   "source": [
    "# Convert list of potential optimal hyperparameters to dataframe for easy viewing.\n",
    "optimal_df = pd.DataFrame(test_runs)\n",
    "optimal_df.columns = ['Learning Rate', 'Batch Size', 'Epochs', 'Validation BCE']\n",
    "optimal_df.sort_values('Validation BCE').head(3)"
   ]
  },
  {
   "cell_type": "markdown",
   "id": "4640a99e",
   "metadata": {},
   "source": [
    "#### The best combination of hyperparameters that yield the minimum validation mse loss are:\n",
    "<br>\n",
    "Learning Rate: 0.001\n",
    "<br>\n",
    "Batch Size: 10\n",
    "<br>\n",
    "Epochs: 500"
   ]
  },
  {
   "cell_type": "markdown",
   "id": "615b4041",
   "metadata": {},
   "source": [
    "### Plot training and validation loss by epoch for best network."
   ]
  },
  {
   "cell_type": "code",
   "execution_count": 141,
   "id": "e30796fc",
   "metadata": {},
   "outputs": [],
   "source": [
    "# Define function to plot training and validation losses.\n",
    "def plot_losses(loss_train, loss_val):\n",
    "    plt.plot(loss_train, label='Training Loss')\n",
    "    plt.plot(loss_val, label='Validation Loss')\n",
    "    plt.xlabel('Epoch')\n",
    "    plt.ylabel('BCE Loss')\n",
    "    plt.legend()\n",
    "    plt.show()"
   ]
  },
  {
   "cell_type": "code",
   "execution_count": 148,
   "id": "a52c499a",
   "metadata": {
    "scrolled": true
   },
   "outputs": [],
   "source": [
    "# Generate nueral network for classifer using best hyperparameters.\n",
    "classifier = nn.NeuralNetwork(nn_arch, lr = 0.001, seed = seed, batch_size = 10, epochs = 500, loss_function = \"mse\")\n",
    "classifier_loss_train, classifier_loss_val = classifier.fit(X_train, y_train, X_test, y_test)"
   ]
  },
  {
   "cell_type": "code",
   "execution_count": 149,
   "id": "ed5cdb75",
   "metadata": {},
   "outputs": [
    {
     "data": {
      "image/png": "[encoded data removed]",
      "text/plain": [
       "<Figure size 640x480 with 1 Axes>"
      ]
     },
     "metadata": {},
     "output_type": "display_data"
    }
   ],
   "source": [
    "# Plot losses side by side.\n",
    "plot_losses(classifier_loss_train, classifier_loss_val)"
   ]
  },
  {
   "cell_type": "markdown",
   "id": "ffc49381",
   "metadata": {},
   "source": [
    "### Quantify accuracy of classifier."
   ]
  },
  {
   "cell_type": "code",
   "execution_count": 150,
   "id": "0a7c2bb4",
   "metadata": {},
   "outputs": [
    {
     "name": "stdout",
     "output_type": "stream",
     "text": [
      "Average classifier prediction error:  0.1416587844597245\n"
     ]
    }
   ],
   "source": [
    "prediction = classifier.predict(X_test)\n",
    "prediction_error = mean_squared_error(y_test, prediction)\n",
    "print(\"Average classifier prediction error: \", prediction_error)"
   ]
  }
 ],
 "metadata": {
  "kernelspec": {
   "display_name": "Python 3 (ipykernel)",
   "language": "python",
   "name": "python3"
  },
  "language_info": {
   "codemirror_mode": {
    "name": "ipython",
    "version": 3
   },
   "file_extension": ".py",
   "mimetype": "text/x-python",
   "name": "python",
   "nbconvert_exporter": "python",
   "pygments_lexer": "ipython3",
   "version": "3.10.9"
  }
 },
 "nbformat": 4,
 "nbformat_minor": 5
}
